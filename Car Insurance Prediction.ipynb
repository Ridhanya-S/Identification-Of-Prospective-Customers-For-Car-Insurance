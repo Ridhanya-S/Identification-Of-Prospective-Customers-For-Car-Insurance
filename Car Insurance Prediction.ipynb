{
 "cells": [
  {
   "cell_type": "markdown",
   "metadata": {},
   "source": [
    "# IDENTIFICATION OF PROSPECTIVE CUSTOMERS FOR CAR INSURANCE"
   ]
  },
  {
   "cell_type": "markdown",
   "metadata": {},
   "source": [
    "To predict customers who are contacted during the current campaign, whether they will buy car insurance or not."
   ]
  },
  {
   "cell_type": "code",
   "execution_count": 1,
   "metadata": {},
   "outputs": [],
   "source": [
    "# IMPORTING NECESSARY LIBRARIES\n",
    "\n",
    "import numpy as np\n",
    "import pandas as pd\n",
    "import matplotlib.pyplot as plt\n",
    "import seaborn as sns\n",
    "from sklearn.tree import DecisionTreeClassifier\n",
    "from sklearn.ensemble import BaggingClassifier\n",
    "from sklearn.linear_model import LogisticRegression\n",
    "from sklearn.preprocessing import StandardScaler\n",
    "from sklearn.metrics import accuracy_score, classification_report, confusion_matrix\n",
    "from sklearn.model_selection import cross_val_score,cross_val_predict,KFold\n",
    "import warnings\n",
    "warnings.filterwarnings(\"ignore\")"
   ]
  },
  {
   "cell_type": "code",
   "execution_count": 2,
   "metadata": {},
   "outputs": [
    {
     "name": "stdout",
     "output_type": "stream",
     "text": [
      "----DATASET LOADED----\n"
     ]
    }
   ],
   "source": [
    "# LOADING TRAIN DATA\n",
    "\n",
    "train_df = pd.read_csv(\"carInsurance_train.csv\")\n",
    "print(\"----DATASET LOADED----\")"
   ]
  },
  {
   "cell_type": "code",
   "execution_count": 3,
   "metadata": {},
   "outputs": [
    {
     "data": {
      "text/html": [
       "<div>\n",
       "<style scoped>\n",
       "    .dataframe tbody tr th:only-of-type {\n",
       "        vertical-align: middle;\n",
       "    }\n",
       "\n",
       "    .dataframe tbody tr th {\n",
       "        vertical-align: top;\n",
       "    }\n",
       "\n",
       "    .dataframe thead th {\n",
       "        text-align: right;\n",
       "    }\n",
       "</style>\n",
       "<table border=\"1\" class=\"dataframe\">\n",
       "  <thead>\n",
       "    <tr style=\"text-align: right;\">\n",
       "      <th></th>\n",
       "      <th>Id</th>\n",
       "      <th>Age</th>\n",
       "      <th>Job</th>\n",
       "      <th>Marital</th>\n",
       "      <th>Education</th>\n",
       "      <th>Default</th>\n",
       "      <th>Balance</th>\n",
       "      <th>HHInsurance</th>\n",
       "      <th>CarLoan</th>\n",
       "      <th>Communication</th>\n",
       "      <th>LastContactDay</th>\n",
       "      <th>LastContactMonth</th>\n",
       "      <th>NoOfContacts</th>\n",
       "      <th>DaysPassed</th>\n",
       "      <th>PrevAttempts</th>\n",
       "      <th>Outcome</th>\n",
       "      <th>CallStart</th>\n",
       "      <th>CallEnd</th>\n",
       "      <th>CarInsurance</th>\n",
       "    </tr>\n",
       "  </thead>\n",
       "  <tbody>\n",
       "    <tr>\n",
       "      <th>0</th>\n",
       "      <td>1</td>\n",
       "      <td>32</td>\n",
       "      <td>management</td>\n",
       "      <td>single</td>\n",
       "      <td>tertiary</td>\n",
       "      <td>0</td>\n",
       "      <td>1218</td>\n",
       "      <td>1</td>\n",
       "      <td>0</td>\n",
       "      <td>telephone</td>\n",
       "      <td>28</td>\n",
       "      <td>jan</td>\n",
       "      <td>2</td>\n",
       "      <td>-1</td>\n",
       "      <td>0</td>\n",
       "      <td>NaN</td>\n",
       "      <td>13:45:20</td>\n",
       "      <td>13:46:30</td>\n",
       "      <td>0</td>\n",
       "    </tr>\n",
       "    <tr>\n",
       "      <th>1</th>\n",
       "      <td>2</td>\n",
       "      <td>32</td>\n",
       "      <td>blue-collar</td>\n",
       "      <td>married</td>\n",
       "      <td>primary</td>\n",
       "      <td>0</td>\n",
       "      <td>1156</td>\n",
       "      <td>1</td>\n",
       "      <td>0</td>\n",
       "      <td>NaN</td>\n",
       "      <td>26</td>\n",
       "      <td>may</td>\n",
       "      <td>5</td>\n",
       "      <td>-1</td>\n",
       "      <td>0</td>\n",
       "      <td>NaN</td>\n",
       "      <td>14:49:03</td>\n",
       "      <td>14:52:08</td>\n",
       "      <td>0</td>\n",
       "    </tr>\n",
       "    <tr>\n",
       "      <th>2</th>\n",
       "      <td>3</td>\n",
       "      <td>29</td>\n",
       "      <td>management</td>\n",
       "      <td>single</td>\n",
       "      <td>tertiary</td>\n",
       "      <td>0</td>\n",
       "      <td>637</td>\n",
       "      <td>1</td>\n",
       "      <td>0</td>\n",
       "      <td>cellular</td>\n",
       "      <td>3</td>\n",
       "      <td>jun</td>\n",
       "      <td>1</td>\n",
       "      <td>119</td>\n",
       "      <td>1</td>\n",
       "      <td>failure</td>\n",
       "      <td>16:30:24</td>\n",
       "      <td>16:36:04</td>\n",
       "      <td>1</td>\n",
       "    </tr>\n",
       "    <tr>\n",
       "      <th>3</th>\n",
       "      <td>4</td>\n",
       "      <td>25</td>\n",
       "      <td>student</td>\n",
       "      <td>single</td>\n",
       "      <td>primary</td>\n",
       "      <td>0</td>\n",
       "      <td>373</td>\n",
       "      <td>1</td>\n",
       "      <td>0</td>\n",
       "      <td>cellular</td>\n",
       "      <td>11</td>\n",
       "      <td>may</td>\n",
       "      <td>2</td>\n",
       "      <td>-1</td>\n",
       "      <td>0</td>\n",
       "      <td>NaN</td>\n",
       "      <td>12:06:43</td>\n",
       "      <td>12:20:22</td>\n",
       "      <td>1</td>\n",
       "    </tr>\n",
       "    <tr>\n",
       "      <th>4</th>\n",
       "      <td>5</td>\n",
       "      <td>30</td>\n",
       "      <td>management</td>\n",
       "      <td>married</td>\n",
       "      <td>tertiary</td>\n",
       "      <td>0</td>\n",
       "      <td>2694</td>\n",
       "      <td>0</td>\n",
       "      <td>0</td>\n",
       "      <td>cellular</td>\n",
       "      <td>3</td>\n",
       "      <td>jun</td>\n",
       "      <td>1</td>\n",
       "      <td>-1</td>\n",
       "      <td>0</td>\n",
       "      <td>NaN</td>\n",
       "      <td>14:35:44</td>\n",
       "      <td>14:38:56</td>\n",
       "      <td>0</td>\n",
       "    </tr>\n",
       "  </tbody>\n",
       "</table>\n",
       "</div>"
      ],
      "text/plain": [
       "   Id  Age          Job  Marital Education  Default  Balance  HHInsurance  \\\n",
       "0   1   32   management   single  tertiary        0     1218            1   \n",
       "1   2   32  blue-collar  married   primary        0     1156            1   \n",
       "2   3   29   management   single  tertiary        0      637            1   \n",
       "3   4   25      student   single   primary        0      373            1   \n",
       "4   5   30   management  married  tertiary        0     2694            0   \n",
       "\n",
       "   CarLoan Communication  LastContactDay LastContactMonth  NoOfContacts  \\\n",
       "0        0     telephone              28              jan             2   \n",
       "1        0           NaN              26              may             5   \n",
       "2        0      cellular               3              jun             1   \n",
       "3        0      cellular              11              may             2   \n",
       "4        0      cellular               3              jun             1   \n",
       "\n",
       "   DaysPassed  PrevAttempts  Outcome CallStart   CallEnd  CarInsurance  \n",
       "0          -1             0      NaN  13:45:20  13:46:30             0  \n",
       "1          -1             0      NaN  14:49:03  14:52:08             0  \n",
       "2         119             1  failure  16:30:24  16:36:04             1  \n",
       "3          -1             0      NaN  12:06:43  12:20:22             1  \n",
       "4          -1             0      NaN  14:35:44  14:38:56             0  "
      ]
     },
     "execution_count": 3,
     "metadata": {},
     "output_type": "execute_result"
    }
   ],
   "source": [
    "# PREVIEW OF THE DATA\n",
    "\n",
    "train_df.head()"
   ]
  },
  {
   "cell_type": "code",
   "execution_count": 4,
   "metadata": {},
   "outputs": [
    {
     "data": {
      "text/plain": [
       "(4000, 19)"
      ]
     },
     "execution_count": 4,
     "metadata": {},
     "output_type": "execute_result"
    }
   ],
   "source": [
    "# DIMENSION OF THE DATA\n",
    "\n",
    "train_df.shape"
   ]
  },
  {
   "cell_type": "markdown",
   "metadata": {},
   "source": [
    "The dataset contains 19 attributes and 4000 records of data"
   ]
  },
  {
   "cell_type": "code",
   "execution_count": 5,
   "metadata": {},
   "outputs": [
    {
     "name": "stdout",
     "output_type": "stream",
     "text": [
      "<class 'pandas.core.frame.DataFrame'>\n",
      "RangeIndex: 4000 entries, 0 to 3999\n",
      "Data columns (total 19 columns):\n",
      " #   Column            Non-Null Count  Dtype \n",
      "---  ------            --------------  ----- \n",
      " 0   Id                4000 non-null   int64 \n",
      " 1   Age               4000 non-null   int64 \n",
      " 2   Job               3981 non-null   object\n",
      " 3   Marital           4000 non-null   object\n",
      " 4   Education         3831 non-null   object\n",
      " 5   Default           4000 non-null   int64 \n",
      " 6   Balance           4000 non-null   int64 \n",
      " 7   HHInsurance       4000 non-null   int64 \n",
      " 8   CarLoan           4000 non-null   int64 \n",
      " 9   Communication     3098 non-null   object\n",
      " 10  LastContactDay    4000 non-null   int64 \n",
      " 11  LastContactMonth  4000 non-null   object\n",
      " 12  NoOfContacts      4000 non-null   int64 \n",
      " 13  DaysPassed        4000 non-null   int64 \n",
      " 14  PrevAttempts      4000 non-null   int64 \n",
      " 15  Outcome           958 non-null    object\n",
      " 16  CallStart         4000 non-null   object\n",
      " 17  CallEnd           4000 non-null   object\n",
      " 18  CarInsurance      4000 non-null   int64 \n",
      "dtypes: int64(11), object(8)\n",
      "memory usage: 593.9+ KB\n"
     ]
    }
   ],
   "source": [
    "# DATASET DESCRIPTION\n",
    "\n",
    "train_df.info()"
   ]
  },
  {
   "cell_type": "markdown",
   "metadata": {},
   "source": [
    "The dataset contains both numercal and categorical data types."
   ]
  },
  {
   "cell_type": "markdown",
   "metadata": {},
   "source": [
    "PREPROCESSING"
   ]
  },
  {
   "cell_type": "code",
   "execution_count": 6,
   "metadata": {},
   "outputs": [],
   "source": [
    "from copy import deepcopy\n",
    "\n",
    "train_data = deepcopy(train_df)"
   ]
  },
  {
   "cell_type": "code",
   "execution_count": 7,
   "metadata": {},
   "outputs": [
    {
     "data": {
      "text/plain": [
       "Id                     0\n",
       "Age                    0\n",
       "Job                   19\n",
       "Marital                0\n",
       "Education            169\n",
       "Default                0\n",
       "Balance                0\n",
       "HHInsurance            0\n",
       "CarLoan                0\n",
       "Communication        902\n",
       "LastContactDay         0\n",
       "LastContactMonth       0\n",
       "NoOfContacts           0\n",
       "DaysPassed             0\n",
       "PrevAttempts           0\n",
       "Outcome             3042\n",
       "CallStart              0\n",
       "CallEnd                0\n",
       "CarInsurance           0\n",
       "dtype: int64"
      ]
     },
     "execution_count": 7,
     "metadata": {},
     "output_type": "execute_result"
    }
   ],
   "source": [
    "# CHECKING MISSING VALUES\n",
    "\n",
    "train_data.isna().sum()"
   ]
  },
  {
   "cell_type": "markdown",
   "metadata": {},
   "source": [
    "The dataset contains missing values from four attributes namely Job, Education, Communication and Outcome."
   ]
  },
  {
   "cell_type": "code",
   "execution_count": 8,
   "metadata": {},
   "outputs": [
    {
     "data": {
      "text/plain": [
       "<AxesSubplot:>"
      ]
     },
     "execution_count": 8,
     "metadata": {},
     "output_type": "execute_result"
    },
    {
     "data": {
      "image/png": "[encoded data removed]",
      "text/plain": [
       "<Figure size 432x288 with 2 Axes>"
      ]
     },
     "metadata": {
      "needs_background": "light"
     },
     "output_type": "display_data"
    }
   ],
   "source": [
    "# VISUALIZING MISSING VALUES\n",
    "\n",
    "sns.heatmap(data = train_data.isna(),cmap=\"YlGnBu\")"
   ]
  },
  {
   "cell_type": "code",
   "execution_count": 9,
   "metadata": {},
   "outputs": [
    {
     "name": "stdout",
     "output_type": "stream",
     "text": [
      "PERCENTAGES OF MISSING VALUES OF THE ATTRIBUTE \n",
      "\n",
      "Job  :  19 \n",
      "Percentage :  0.475 %\n",
      "\n",
      "Education  :  169 \n",
      "Percentage :  4.2250000000000005 %\n",
      "\n",
      "Communication  :  902 \n",
      "Percentage :  22.55 %\n",
      "\n",
      "Outcome  :  3042 \n",
      "Percentage :  76.05 %\n",
      "\n"
     ]
    }
   ],
   "source": [
    "# PERCENTAGES OF MISSING VALUES IN EACH ATTRIBUTE\n",
    "\n",
    "print(\"PERCENTAGES OF MISSING VALUES OF THE ATTRIBUTE \\n\")\n",
    "\n",
    "Dict = {}\n",
    "for Column, Value in train_data.isnull().sum().items():\n",
    "    if (Value > 0):\n",
    "        Dict[Column] = Value\n",
    "      \n",
    "for col,val in Dict.items():\n",
    "    print(col,\" : \",val,\"\\nPercentage : \",(val/4000)*100,\"%\\n\")"
   ]
  },
  {
   "cell_type": "markdown",
   "metadata": {},
   "source": [
    "Outcome has the highest missing percentage compared to others of about 76%."
   ]
  },
  {
   "cell_type": "code",
   "execution_count": 10,
   "metadata": {},
   "outputs": [],
   "source": [
    "# MAPPING CATEGORICAL COLUMNS\n",
    "\n",
    "train_data['Communication'] = train_data.Communication.map({'telephone' : 0, 'cellular' : 1})\n",
    "train_data['Education'] =train_data.Education.map({'primary' : 1 , 'secondary' : 2, 'tertiary' : 3})\n",
    "train_data['Marital'] = train_data.Marital.map({'single' : 1, 'married' : 2, 'divorced': 3})\n",
    "train_data['LastContactMonth'] = train_data.LastContactMonth.map({'jan' :1, 'feb' : 2, 'mar' : 3, 'apr'  :4, 'may' :5, 'jun' : 6, 'jul' : 7, 'aug' :8, 'sep':9,  'oct' :10, 'nov' :11, 'dec' :12})"
   ]
  },
  {
   "cell_type": "code",
   "execution_count": 11,
   "metadata": {},
   "outputs": [],
   "source": [
    "# HANDLING MISSING VALUES\n",
    "\n",
    "def impute_nan(df,variable):\n",
    "    most_frequent_category=df[variable].value_counts().mode()[0]\n",
    "    df[variable].fillna(most_frequent_category,inplace=True)\n",
    "    \n",
    "for feature in ['Job','Education','Communication']:\n",
    "    impute_nan(train_data,feature)\n"
   ]
  },
  {
   "cell_type": "code",
   "execution_count": 12,
   "metadata": {},
   "outputs": [],
   "source": [
    "# ENCODING JOB FEATURES\n",
    "\n",
    "def onehot_encode(train_data, columns):\n",
    "    dummies = pd.get_dummies(train_data[columns], prefix = columns)\n",
    "    train_data = pd.concat([train_data, dummies], axis =1)\n",
    "    train_data = train_data.drop(columns, axis=1)\n",
    "    \n",
    "    return train_data\n",
    "\n",
    "train_data = onehot_encode(train_data, 'Job')"
   ]
  },
  {
   "cell_type": "code",
   "execution_count": 13,
   "metadata": {},
   "outputs": [],
   "source": [
    "# DROP OF OUTCOME ATTRIBUTE\n",
    "\n",
    "train_data.drop(['Outcome'],axis =1, inplace = True)"
   ]
  },
  {
   "cell_type": "code",
   "execution_count": 14,
   "metadata": {},
   "outputs": [
    {
     "data": {
      "text/plain": [
       "Id                   0\n",
       "Age                  0\n",
       "Marital              0\n",
       "Education            0\n",
       "Default              0\n",
       "Balance              0\n",
       "HHInsurance          0\n",
       "CarLoan              0\n",
       "Communication        0\n",
       "LastContactDay       0\n",
       "LastContactMonth     0\n",
       "NoOfContacts         0\n",
       "DaysPassed           0\n",
       "PrevAttempts         0\n",
       "CallStart            0\n",
       "CallEnd              0\n",
       "CarInsurance         0\n",
       "Job_109              0\n",
       "Job_admin.           0\n",
       "Job_blue-collar      0\n",
       "Job_entrepreneur     0\n",
       "Job_housemaid        0\n",
       "Job_management       0\n",
       "Job_retired          0\n",
       "Job_self-employed    0\n",
       "Job_services         0\n",
       "Job_student          0\n",
       "Job_technician       0\n",
       "Job_unemployed       0\n",
       "dtype: int64"
      ]
     },
     "execution_count": 14,
     "metadata": {},
     "output_type": "execute_result"
    }
   ],
   "source": [
    "# AFTER MAPPING AND TREATING MISSING VALUES\n",
    "\n",
    "train_data.isnull().sum()"
   ]
  },
  {
   "cell_type": "markdown",
   "metadata": {},
   "source": [
    "After mapping, now the dataset doesnot contains any missing values."
   ]
  },
  {
   "cell_type": "code",
   "execution_count": 15,
   "metadata": {},
   "outputs": [
    {
     "data": {
      "text/plain": [
       "<AxesSubplot:>"
      ]
     },
     "execution_count": 15,
     "metadata": {},
     "output_type": "execute_result"
    },
    {
     "data": {
      "image/png": "[encoded data removed]",
      "text/plain": [
       "<Figure size 432x288 with 2 Axes>"
      ]
     },
     "metadata": {
      "needs_background": "light"
     },
     "output_type": "display_data"
    }
   ],
   "source": [
    "# VISUALIZING THE MISSING VALUES\n",
    "\n",
    "sns.heatmap(data = train_data.isna())"
   ]
  },
  {
   "cell_type": "code",
   "execution_count": 16,
   "metadata": {},
   "outputs": [
    {
     "data": {
      "text/plain": [
       "0     70\n",
       "1    185\n",
       "2    340\n",
       "3    819\n",
       "4    192\n",
       "Name: Call_Duration, dtype: int64"
      ]
     },
     "execution_count": 16,
     "metadata": {},
     "output_type": "execute_result"
    }
   ],
   "source": [
    "# CALCULATING TOTAL CALL DURATION AND CONVERTING IT TO SECONDS\n",
    "\n",
    "# Converting the type of \"CallStart\" & \"CallEnd\" to Datetime.\n",
    "train_data[['CallStart','CallEnd']]=train_data[['CallStart','CallEnd']].astype('datetime64[ns]')\n",
    "\n",
    "# Calculating the total Call Duration\n",
    "train_data['Call_Duration']=train_data['CallEnd']-train_data['CallStart']\n",
    "\n",
    "# Extracting the time & converting it to seconds\n",
    "train_data['Call_Duration']=train_data['Call_Duration'].dt.components['minutes']*60 + train_data['Call_Duration'].dt.components['seconds']\n",
    "train_data['Call_Duration'].head()"
   ]
  },
  {
   "cell_type": "code",
   "execution_count": 17,
   "metadata": {},
   "outputs": [
    {
     "data": {
      "text/html": [
       "<div>\n",
       "<style scoped>\n",
       "    .dataframe tbody tr th:only-of-type {\n",
       "        vertical-align: middle;\n",
       "    }\n",
       "\n",
       "    .dataframe tbody tr th {\n",
       "        vertical-align: top;\n",
       "    }\n",
       "\n",
       "    .dataframe thead th {\n",
       "        text-align: right;\n",
       "    }\n",
       "</style>\n",
       "<table border=\"1\" class=\"dataframe\">\n",
       "  <thead>\n",
       "    <tr style=\"text-align: right;\">\n",
       "      <th></th>\n",
       "      <th>Id</th>\n",
       "      <th>Age</th>\n",
       "      <th>Marital</th>\n",
       "      <th>Education</th>\n",
       "      <th>Default</th>\n",
       "      <th>Balance</th>\n",
       "      <th>HHInsurance</th>\n",
       "      <th>CarLoan</th>\n",
       "      <th>Communication</th>\n",
       "      <th>LastContactDay</th>\n",
       "      <th>...</th>\n",
       "      <th>Job_entrepreneur</th>\n",
       "      <th>Job_housemaid</th>\n",
       "      <th>Job_management</th>\n",
       "      <th>Job_retired</th>\n",
       "      <th>Job_self-employed</th>\n",
       "      <th>Job_services</th>\n",
       "      <th>Job_student</th>\n",
       "      <th>Job_technician</th>\n",
       "      <th>Job_unemployed</th>\n",
       "      <th>Call_Duration</th>\n",
       "    </tr>\n",
       "  </thead>\n",
       "  <tbody>\n",
       "    <tr>\n",
       "      <th>0</th>\n",
       "      <td>1</td>\n",
       "      <td>32</td>\n",
       "      <td>1</td>\n",
       "      <td>3.0</td>\n",
       "      <td>0</td>\n",
       "      <td>1218</td>\n",
       "      <td>1</td>\n",
       "      <td>0</td>\n",
       "      <td>0.0</td>\n",
       "      <td>28</td>\n",
       "      <td>...</td>\n",
       "      <td>0</td>\n",
       "      <td>0</td>\n",
       "      <td>1</td>\n",
       "      <td>0</td>\n",
       "      <td>0</td>\n",
       "      <td>0</td>\n",
       "      <td>0</td>\n",
       "      <td>0</td>\n",
       "      <td>0</td>\n",
       "      <td>70</td>\n",
       "    </tr>\n",
       "    <tr>\n",
       "      <th>1</th>\n",
       "      <td>2</td>\n",
       "      <td>32</td>\n",
       "      <td>2</td>\n",
       "      <td>1.0</td>\n",
       "      <td>0</td>\n",
       "      <td>1156</td>\n",
       "      <td>1</td>\n",
       "      <td>0</td>\n",
       "      <td>267.0</td>\n",
       "      <td>26</td>\n",
       "      <td>...</td>\n",
       "      <td>0</td>\n",
       "      <td>0</td>\n",
       "      <td>0</td>\n",
       "      <td>0</td>\n",
       "      <td>0</td>\n",
       "      <td>0</td>\n",
       "      <td>0</td>\n",
       "      <td>0</td>\n",
       "      <td>0</td>\n",
       "      <td>185</td>\n",
       "    </tr>\n",
       "    <tr>\n",
       "      <th>2</th>\n",
       "      <td>3</td>\n",
       "      <td>29</td>\n",
       "      <td>1</td>\n",
       "      <td>3.0</td>\n",
       "      <td>0</td>\n",
       "      <td>637</td>\n",
       "      <td>1</td>\n",
       "      <td>0</td>\n",
       "      <td>1.0</td>\n",
       "      <td>3</td>\n",
       "      <td>...</td>\n",
       "      <td>0</td>\n",
       "      <td>0</td>\n",
       "      <td>1</td>\n",
       "      <td>0</td>\n",
       "      <td>0</td>\n",
       "      <td>0</td>\n",
       "      <td>0</td>\n",
       "      <td>0</td>\n",
       "      <td>0</td>\n",
       "      <td>340</td>\n",
       "    </tr>\n",
       "    <tr>\n",
       "      <th>3</th>\n",
       "      <td>4</td>\n",
       "      <td>25</td>\n",
       "      <td>1</td>\n",
       "      <td>1.0</td>\n",
       "      <td>0</td>\n",
       "      <td>373</td>\n",
       "      <td>1</td>\n",
       "      <td>0</td>\n",
       "      <td>1.0</td>\n",
       "      <td>11</td>\n",
       "      <td>...</td>\n",
       "      <td>0</td>\n",
       "      <td>0</td>\n",
       "      <td>0</td>\n",
       "      <td>0</td>\n",
       "      <td>0</td>\n",
       "      <td>0</td>\n",
       "      <td>1</td>\n",
       "      <td>0</td>\n",
       "      <td>0</td>\n",
       "      <td>819</td>\n",
       "    </tr>\n",
       "    <tr>\n",
       "      <th>4</th>\n",
       "      <td>5</td>\n",
       "      <td>30</td>\n",
       "      <td>2</td>\n",
       "      <td>3.0</td>\n",
       "      <td>0</td>\n",
       "      <td>2694</td>\n",
       "      <td>0</td>\n",
       "      <td>0</td>\n",
       "      <td>1.0</td>\n",
       "      <td>3</td>\n",
       "      <td>...</td>\n",
       "      <td>0</td>\n",
       "      <td>0</td>\n",
       "      <td>1</td>\n",
       "      <td>0</td>\n",
       "      <td>0</td>\n",
       "      <td>0</td>\n",
       "      <td>0</td>\n",
       "      <td>0</td>\n",
       "      <td>0</td>\n",
       "      <td>192</td>\n",
       "    </tr>\n",
       "  </tbody>\n",
       "</table>\n",
       "<p>5 rows × 30 columns</p>\n",
       "</div>"
      ],
      "text/plain": [
       "   Id  Age  Marital  Education  Default  Balance  HHInsurance  CarLoan  \\\n",
       "0   1   32        1        3.0        0     1218            1        0   \n",
       "1   2   32        2        1.0        0     1156            1        0   \n",
       "2   3   29        1        3.0        0      637            1        0   \n",
       "3   4   25        1        1.0        0      373            1        0   \n",
       "4   5   30        2        3.0        0     2694            0        0   \n",
       "\n",
       "   Communication  LastContactDay  ...  Job_entrepreneur  Job_housemaid  \\\n",
       "0            0.0              28  ...                 0              0   \n",
       "1          267.0              26  ...                 0              0   \n",
       "2            1.0               3  ...                 0              0   \n",
       "3            1.0              11  ...                 0              0   \n",
       "4            1.0               3  ...                 0              0   \n",
       "\n",
       "   Job_management  Job_retired Job_self-employed Job_services  Job_student  \\\n",
       "0               1            0                 0            0            0   \n",
       "1               0            0                 0            0            0   \n",
       "2               1            0                 0            0            0   \n",
       "3               0            0                 0            0            1   \n",
       "4               1            0                 0            0            0   \n",
       "\n",
       "   Job_technician  Job_unemployed  Call_Duration  \n",
       "0               0               0             70  \n",
       "1               0               0            185  \n",
       "2               0               0            340  \n",
       "3               0               0            819  \n",
       "4               0               0            192  \n",
       "\n",
       "[5 rows x 30 columns]"
      ]
     },
     "execution_count": 17,
     "metadata": {},
     "output_type": "execute_result"
    }
   ],
   "source": [
    "# AFTER ADDING CALL DURATION\n",
    "\n",
    "train_data.head()"
   ]
  },
  {
   "cell_type": "code",
   "execution_count": 18,
   "metadata": {},
   "outputs": [],
   "source": [
    "# DROP OF UNWANTED COLUMNS\n",
    "\n",
    "train_data.drop(['Id'],axis =1, inplace = True)\n",
    "train_data.drop(['CallEnd', 'CallStart'], axis=1, inplace=True)"
   ]
  },
  {
   "cell_type": "code",
   "execution_count": 19,
   "metadata": {},
   "outputs": [
    {
     "data": {
      "text/html": [
       "<div>\n",
       "<style scoped>\n",
       "    .dataframe tbody tr th:only-of-type {\n",
       "        vertical-align: middle;\n",
       "    }\n",
       "\n",
       "    .dataframe tbody tr th {\n",
       "        vertical-align: top;\n",
       "    }\n",
       "\n",
       "    .dataframe thead th {\n",
       "        text-align: right;\n",
       "    }\n",
       "</style>\n",
       "<table border=\"1\" class=\"dataframe\">\n",
       "  <thead>\n",
       "    <tr style=\"text-align: right;\">\n",
       "      <th></th>\n",
       "      <th>Age</th>\n",
       "      <th>Marital</th>\n",
       "      <th>Education</th>\n",
       "      <th>Default</th>\n",
       "      <th>Balance</th>\n",
       "      <th>HHInsurance</th>\n",
       "      <th>CarLoan</th>\n",
       "      <th>Communication</th>\n",
       "      <th>LastContactDay</th>\n",
       "      <th>LastContactMonth</th>\n",
       "      <th>...</th>\n",
       "      <th>Job_entrepreneur</th>\n",
       "      <th>Job_housemaid</th>\n",
       "      <th>Job_management</th>\n",
       "      <th>Job_retired</th>\n",
       "      <th>Job_self-employed</th>\n",
       "      <th>Job_services</th>\n",
       "      <th>Job_student</th>\n",
       "      <th>Job_technician</th>\n",
       "      <th>Job_unemployed</th>\n",
       "      <th>Call_Duration</th>\n",
       "    </tr>\n",
       "  </thead>\n",
       "  <tbody>\n",
       "    <tr>\n",
       "      <th>0</th>\n",
       "      <td>32</td>\n",
       "      <td>1</td>\n",
       "      <td>3.0</td>\n",
       "      <td>0</td>\n",
       "      <td>1218</td>\n",
       "      <td>1</td>\n",
       "      <td>0</td>\n",
       "      <td>0.0</td>\n",
       "      <td>28</td>\n",
       "      <td>1</td>\n",
       "      <td>...</td>\n",
       "      <td>0</td>\n",
       "      <td>0</td>\n",
       "      <td>1</td>\n",
       "      <td>0</td>\n",
       "      <td>0</td>\n",
       "      <td>0</td>\n",
       "      <td>0</td>\n",
       "      <td>0</td>\n",
       "      <td>0</td>\n",
       "      <td>70</td>\n",
       "    </tr>\n",
       "    <tr>\n",
       "      <th>1</th>\n",
       "      <td>32</td>\n",
       "      <td>2</td>\n",
       "      <td>1.0</td>\n",
       "      <td>0</td>\n",
       "      <td>1156</td>\n",
       "      <td>1</td>\n",
       "      <td>0</td>\n",
       "      <td>267.0</td>\n",
       "      <td>26</td>\n",
       "      <td>5</td>\n",
       "      <td>...</td>\n",
       "      <td>0</td>\n",
       "      <td>0</td>\n",
       "      <td>0</td>\n",
       "      <td>0</td>\n",
       "      <td>0</td>\n",
       "      <td>0</td>\n",
       "      <td>0</td>\n",
       "      <td>0</td>\n",
       "      <td>0</td>\n",
       "      <td>185</td>\n",
       "    </tr>\n",
       "    <tr>\n",
       "      <th>2</th>\n",
       "      <td>29</td>\n",
       "      <td>1</td>\n",
       "      <td>3.0</td>\n",
       "      <td>0</td>\n",
       "      <td>637</td>\n",
       "      <td>1</td>\n",
       "      <td>0</td>\n",
       "      <td>1.0</td>\n",
       "      <td>3</td>\n",
       "      <td>6</td>\n",
       "      <td>...</td>\n",
       "      <td>0</td>\n",
       "      <td>0</td>\n",
       "      <td>1</td>\n",
       "      <td>0</td>\n",
       "      <td>0</td>\n",
       "      <td>0</td>\n",
       "      <td>0</td>\n",
       "      <td>0</td>\n",
       "      <td>0</td>\n",
       "      <td>340</td>\n",
       "    </tr>\n",
       "    <tr>\n",
       "      <th>3</th>\n",
       "      <td>25</td>\n",
       "      <td>1</td>\n",
       "      <td>1.0</td>\n",
       "      <td>0</td>\n",
       "      <td>373</td>\n",
       "      <td>1</td>\n",
       "      <td>0</td>\n",
       "      <td>1.0</td>\n",
       "      <td>11</td>\n",
       "      <td>5</td>\n",
       "      <td>...</td>\n",
       "      <td>0</td>\n",
       "      <td>0</td>\n",
       "      <td>0</td>\n",
       "      <td>0</td>\n",
       "      <td>0</td>\n",
       "      <td>0</td>\n",
       "      <td>1</td>\n",
       "      <td>0</td>\n",
       "      <td>0</td>\n",
       "      <td>819</td>\n",
       "    </tr>\n",
       "    <tr>\n",
       "      <th>4</th>\n",
       "      <td>30</td>\n",
       "      <td>2</td>\n",
       "      <td>3.0</td>\n",
       "      <td>0</td>\n",
       "      <td>2694</td>\n",
       "      <td>0</td>\n",
       "      <td>0</td>\n",
       "      <td>1.0</td>\n",
       "      <td>3</td>\n",
       "      <td>6</td>\n",
       "      <td>...</td>\n",
       "      <td>0</td>\n",
       "      <td>0</td>\n",
       "      <td>1</td>\n",
       "      <td>0</td>\n",
       "      <td>0</td>\n",
       "      <td>0</td>\n",
       "      <td>0</td>\n",
       "      <td>0</td>\n",
       "      <td>0</td>\n",
       "      <td>192</td>\n",
       "    </tr>\n",
       "  </tbody>\n",
       "</table>\n",
       "<p>5 rows × 27 columns</p>\n",
       "</div>"
      ],
      "text/plain": [
       "   Age  Marital  Education  Default  Balance  HHInsurance  CarLoan  \\\n",
       "0   32        1        3.0        0     1218            1        0   \n",
       "1   32        2        1.0        0     1156            1        0   \n",
       "2   29        1        3.0        0      637            1        0   \n",
       "3   25        1        1.0        0      373            1        0   \n",
       "4   30        2        3.0        0     2694            0        0   \n",
       "\n",
       "   Communication  LastContactDay  LastContactMonth  ...  Job_entrepreneur  \\\n",
       "0            0.0              28                 1  ...                 0   \n",
       "1          267.0              26                 5  ...                 0   \n",
       "2            1.0               3                 6  ...                 0   \n",
       "3            1.0              11                 5  ...                 0   \n",
       "4            1.0               3                 6  ...                 0   \n",
       "\n",
       "   Job_housemaid  Job_management  Job_retired  Job_self-employed  \\\n",
       "0              0               1            0                  0   \n",
       "1              0               0            0                  0   \n",
       "2              0               1            0                  0   \n",
       "3              0               0            0                  0   \n",
       "4              0               1            0                  0   \n",
       "\n",
       "   Job_services  Job_student  Job_technician  Job_unemployed  Call_Duration  \n",
       "0             0            0               0               0             70  \n",
       "1             0            0               0               0            185  \n",
       "2             0            0               0               0            340  \n",
       "3             0            1               0               0            819  \n",
       "4             0            0               0               0            192  \n",
       "\n",
       "[5 rows x 27 columns]"
      ]
     },
     "execution_count": 19,
     "metadata": {},
     "output_type": "execute_result"
    }
   ],
   "source": [
    "# AFTER PREPROCESSING DATASET PREVIEW\n",
    "\n",
    "train_data.head()"
   ]
  },
  {
   "cell_type": "code",
   "execution_count": 20,
   "metadata": {},
   "outputs": [
    {
     "name": "stdout",
     "output_type": "stream",
     "text": [
      "<class 'pandas.core.frame.DataFrame'>\n",
      "RangeIndex: 4000 entries, 0 to 3999\n",
      "Data columns (total 27 columns):\n",
      " #   Column             Non-Null Count  Dtype  \n",
      "---  ------             --------------  -----  \n",
      " 0   Age                4000 non-null   int64  \n",
      " 1   Marital            4000 non-null   int64  \n",
      " 2   Education          4000 non-null   float64\n",
      " 3   Default            4000 non-null   int64  \n",
      " 4   Balance            4000 non-null   int64  \n",
      " 5   HHInsurance        4000 non-null   int64  \n",
      " 6   CarLoan            4000 non-null   int64  \n",
      " 7   Communication      4000 non-null   float64\n",
      " 8   LastContactDay     4000 non-null   int64  \n",
      " 9   LastContactMonth   4000 non-null   int64  \n",
      " 10  NoOfContacts       4000 non-null   int64  \n",
      " 11  DaysPassed         4000 non-null   int64  \n",
      " 12  PrevAttempts       4000 non-null   int64  \n",
      " 13  CarInsurance       4000 non-null   int64  \n",
      " 14  Job_109            4000 non-null   uint8  \n",
      " 15  Job_admin.         4000 non-null   uint8  \n",
      " 16  Job_blue-collar    4000 non-null   uint8  \n",
      " 17  Job_entrepreneur   4000 non-null   uint8  \n",
      " 18  Job_housemaid      4000 non-null   uint8  \n",
      " 19  Job_management     4000 non-null   uint8  \n",
      " 20  Job_retired        4000 non-null   uint8  \n",
      " 21  Job_self-employed  4000 non-null   uint8  \n",
      " 22  Job_services       4000 non-null   uint8  \n",
      " 23  Job_student        4000 non-null   uint8  \n",
      " 24  Job_technician     4000 non-null   uint8  \n",
      " 25  Job_unemployed     4000 non-null   uint8  \n",
      " 26  Call_Duration      4000 non-null   int64  \n",
      "dtypes: float64(2), int64(13), uint8(12)\n",
      "memory usage: 515.8 KB\n"
     ]
    }
   ],
   "source": [
    "# CHECKING INFORMATION ABOUT DATA AFTER PREPROCESSING\n",
    "\n",
    "train_data.info()"
   ]
  },
  {
   "cell_type": "markdown",
   "metadata": {},
   "source": [
    "After preprocessing, the dataset contains 27 attributes (columns) with 4000 records and the attributes are numerical data."
   ]
  },
  {
   "cell_type": "markdown",
   "metadata": {},
   "source": [
    "EXPLORATORY DATA ANALYSIS"
   ]
  },
  {
   "cell_type": "code",
   "execution_count": 21,
   "metadata": {},
   "outputs": [
    {
     "data": {
      "image/png": "[encoded data removed]",
      "text/plain": [
       "<Figure size 432x288 with 1 Axes>"
      ]
     },
     "metadata": {
      "needs_background": "light"
     },
     "output_type": "display_data"
    }
   ],
   "source": [
    "# COUNT PLOT OF CAR INSURANCE\n",
    "\n",
    "sns.countplot(train_df[\"CarInsurance\"])\n",
    "plt.show()\n"
   ]
  },
  {
   "cell_type": "code",
   "execution_count": 22,
   "metadata": {},
   "outputs": [
    {
     "data": {
      "text/plain": [
       "<matplotlib.legend.Legend at 0x2c760bd5a90>"
      ]
     },
     "execution_count": 22,
     "metadata": {},
     "output_type": "execute_result"
    },
    {
     "data": {
      "image/png": "[encoded data removed]",
      "text/plain": [
       "<Figure size 1440x720 with 1 Axes>"
      ]
     },
     "metadata": {
      "needs_background": "light"
     },
     "output_type": "display_data"
    }
   ],
   "source": [
    "# COUNT PLOT FOR MARITAL STATUS \n",
    "\n",
    "plt.figure(figsize=(20,10))\n",
    "plt.subplot(2,3,1)\n",
    "plt.xlabel(\"Marital\", fontsize=20)\n",
    "sns.countplot(x=\"Marital\" ,hue='CarInsurance', data=train_df ,palette='rocket')\n",
    "plt.legend((\"0: insurance rejected\", \"1: insurance accepted\"),loc='best')\n",
    "\n"
   ]
  },
  {
   "cell_type": "code",
   "execution_count": 23,
   "metadata": {},
   "outputs": [
    {
     "data": {
      "text/plain": [
       "<matplotlib.legend.Legend at 0x2c760c96820>"
      ]
     },
     "execution_count": 23,
     "metadata": {},
     "output_type": "execute_result"
    },
    {
     "data": {
      "image/png": "[encoded data removed]",
      "text/plain": [
       "<Figure size 4320x1080 with 1 Axes>"
      ]
     },
     "metadata": {
      "needs_background": "light"
     },
     "output_type": "display_data"
    }
   ],
   "source": [
    "# COUNT PLOT OF AGE\n",
    "\n",
    "\n",
    "plt.figure(figsize=(60,15))\n",
    "plt.subplot(2,3,1)\n",
    "plt.xlabel(\"Age\", fontsize=20)\n",
    "sns.countplot(x=\"Age\" ,hue='CarInsurance', data=train_df ,palette='rocket')\n",
    "plt.legend((\"0: insurance rejected\", \"1: insurance accepted\"),loc='best')\n"
   ]
  },
  {
   "cell_type": "code",
   "execution_count": 24,
   "metadata": {},
   "outputs": [
    {
     "data": {
      "text/plain": [
       "<matplotlib.legend.Legend at 0x2c760ed4670>"
      ]
     },
     "execution_count": 24,
     "metadata": {},
     "output_type": "execute_result"
    },
    {
     "data": {
      "image/png": "[encoded data removed]",
      "text/plain": [
       "<Figure size 1440x720 with 1 Axes>"
      ]
     },
     "metadata": {
      "needs_background": "light"
     },
     "output_type": "display_data"
    }
   ],
   "source": [
    "plt.figure(figsize=(20,10))\n",
    "plt.subplot(2,3,1)\n",
    "sns.countplot(x=\"Communication\" ,hue='CarInsurance', data=train_df ,palette='rocket')\n",
    "plt.xlabel(\"Communication\", fontsize=20)\n",
    "plt.legend((\"0: insurance rejected\", \"1: insurance accepted\"),loc='best')\n",
    "\n"
   ]
  },
  {
   "cell_type": "code",
   "execution_count": 25,
   "metadata": {},
   "outputs": [
    {
     "data": {
      "text/plain": [
       "<matplotlib.legend.Legend at 0x2c761125190>"
      ]
     },
     "execution_count": 25,
     "metadata": {},
     "output_type": "execute_result"
    },
    {
     "data": {
      "image/png": "[encoded data removed]",
      "text/plain": [
       "<Figure size 1440x720 with 1 Axes>"
      ]
     },
     "metadata": {
      "needs_background": "light"
     },
     "output_type": "display_data"
    }
   ],
   "source": [
    "# COUNT PLOT OF EDUCATION\n",
    "\n",
    "plt.figure(figsize=(20,10))\n",
    "plt.subplot(2,3,1)\n",
    "sns.countplot(x=\"Education\" ,hue='CarInsurance', data=train_df ,palette='rocket')\n",
    "plt.xlabel(\"Education\", fontsize=20)\n",
    "plt.legend((\"0: insurance rejected\", \"1: insurance accepted\"),loc='best')\n",
    "\n"
   ]
  },
  {
   "cell_type": "code",
   "execution_count": 26,
   "metadata": {},
   "outputs": [
    {
     "data": {
      "text/plain": [
       "<matplotlib.legend.Legend at 0x2c76114db80>"
      ]
     },
     "execution_count": 26,
     "metadata": {},
     "output_type": "execute_result"
    },
    {
     "data": {
      "image/png": "[encoded data removed]",
      "text/plain": [
       "<Figure size 3600x720 with 1 Axes>"
      ]
     },
     "metadata": {
      "needs_background": "light"
     },
     "output_type": "display_data"
    }
   ],
   "source": [
    "# COUNT PLOT OF JOB\n",
    "\n",
    "plt.figure(figsize=(50,10))\n",
    "plt.subplot(2,3,1)\n",
    "sns.countplot(x=\"Job\" ,hue='CarInsurance', data=train_df ,palette='rocket')\n",
    "plt.xlabel(\"Job\", fontsize=20)\n",
    "plt.legend((\"0: insurance rejected\", \"1: insurance accepted\"),loc='best')\n"
   ]
  },
  {
   "cell_type": "markdown",
   "metadata": {},
   "source": [
    "METHODOLOGY"
   ]
  },
  {
   "cell_type": "code",
   "execution_count": 59,
   "metadata": {},
   "outputs": [],
   "source": [
    "# DEFINING INDEPENDENT AND DEPENDENT VARIABLES\n",
    "\n",
    "X = train_data.drop('CarInsurance',axis =1)\n",
    "y = train_data['CarInsurance']"
   ]
  },
  {
   "cell_type": "code",
   "execution_count": 60,
   "metadata": {},
   "outputs": [],
   "source": [
    "# SPLITTING INTO TRAINING AND TESTING DATA HAVING 30% OF TEST DATA\n",
    "\n",
    "from sklearn.model_selection import train_test_split\n",
    "X_train, X_test, y_train, y_test = train_test_split(X, y, test_size = 0.30, random_state = 42)"
   ]
  },
  {
   "cell_type": "code",
   "execution_count": 61,
   "metadata": {},
   "outputs": [
    {
     "name": "stdout",
     "output_type": "stream",
     "text": [
      "(2800, 26) (1200, 26) (2800,) (1200,)\n"
     ]
    }
   ],
   "source": [
    "print(X_train.shape, X_test.shape, y_train.shape, y_test.shape)"
   ]
  },
  {
   "cell_type": "code",
   "execution_count": 62,
   "metadata": {},
   "outputs": [],
   "source": [
    "# SCALING THE DATA\n",
    "\n",
    "from sklearn.preprocessing import StandardScaler\n",
    "sc = StandardScaler()\n",
    "\n",
    "sc.fit(X_train)\n",
    "\n",
    "X_train = pd.DataFrame(sc.transform(X_train), columns = X.columns)\n",
    "X_test = pd.DataFrame(sc.transform(X_test), columns = X.columns)"
   ]
  },
  {
   "cell_type": "code",
   "execution_count": 63,
   "metadata": {},
   "outputs": [
    {
     "name": "stdout",
     "output_type": "stream",
     "text": [
      "LOGISTIC REGRESSION\n",
      "\n",
      "\n",
      "TRAIN ACCURACY :  0.8053571428571429\n",
      "\n",
      "TEST ACCURACY :  0.795\n",
      "\n",
      "ACCURACY :  0.795\n",
      "\n",
      "K-FOLD CROSS VALIDATION :  0.7592426759783353\n",
      "\n",
      "CLASSIFICATION REPORT:\n",
      "               precision    recall  f1-score   support\n",
      "\n",
      "           0       0.81      0.86      0.83       726\n",
      "           1       0.76      0.70      0.73       474\n",
      "\n",
      "    accuracy                           0.80      1200\n",
      "   macro avg       0.79      0.78      0.78      1200\n",
      "weighted avg       0.79      0.80      0.79      1200\n",
      "\n",
      "\n",
      "CONFUSION MATRIX:\n"
     ]
    },
    {
     "data": {
      "image/png": "[encoded data removed]",
      "text/plain": [
       "<Figure size 432x288 with 2 Axes>"
      ]
     },
     "metadata": {
      "needs_background": "light"
     },
     "output_type": "display_data"
    }
   ],
   "source": [
    "# LOGISTIC REGRESSION\n",
    "from sklearn.linear_model import LogisticRegression\n",
    "\n",
    "# Logistic Regression Model \n",
    "log = LogisticRegression(random_state = 0)\n",
    "\n",
    "# Fitting data\n",
    "log.fit(X_train, y_train)\n",
    "\n",
    "# Predicting the data\n",
    "log_pred = log.predict(X_test)\n",
    "\n",
    "\n",
    "# MODEL EVALUATION FOR LOGISTIC REGRESSION\n",
    "print(\"LOGISTIC REGRESSION\\n\")\n",
    "\n",
    "# Train Accuracy\n",
    "train = log.score(X_train, y_train)\n",
    "print(\"\\nTRAIN ACCURACY : \",train)\n",
    "\n",
    "# Test Accuracy\n",
    "test = log.score(X_test, y_test)\n",
    "print(\"\\nTEST ACCURACY : \",test)\n",
    "\n",
    "# Accuracy\n",
    "acc = accuracy_score(y_test,log_pred)\n",
    "print(\"\\nACCURACY : \",acc)\n",
    "\n",
    "# KFold Cross Validation\n",
    "kfold = KFold(n_splits=15)\n",
    "results = cross_val_score(log, X, y,cv=kfold)\n",
    "print(\"\\nK-FOLD CROSS VALIDATION : \",results.mean())\n",
    "\n",
    "# Classification Report\n",
    "clf_report = classification_report(y_test,log_pred)\n",
    "print(\"\\nCLASSIFICATION REPORT:\\n\", clf_report)\n",
    "\n",
    "# Confusion Matrix\n",
    "print(\"\\nCONFUSION MATRIX:\")\n",
    "sns.heatmap(confusion_matrix(y_test,log_pred),annot=True,fmt='g')\n",
    "plt.show()"
   ]
  },
  {
   "cell_type": "code",
   "execution_count": 64,
   "metadata": {},
   "outputs": [
    {
     "name": "stdout",
     "output_type": "stream",
     "text": [
      "DECISION TREE CLASSIFIER\n",
      "\n",
      "\n",
      "TRAIN ACCURACY :  1.0\n",
      "\n",
      "TEST ACCURACY :  0.7516666666666667\n",
      "\n",
      "ACCURACY :  0.7516666666666667\n",
      "\n",
      "K-FOLD CROSS VALIDATION :  0.7770052472003979\n",
      "\n",
      "CLASSIFICATION REPORT:\n",
      "               precision    recall  f1-score   support\n",
      "\n",
      "           0       0.78      0.82      0.80       726\n",
      "           1       0.70      0.65      0.67       474\n",
      "\n",
      "    accuracy                           0.75      1200\n",
      "   macro avg       0.74      0.73      0.74      1200\n",
      "weighted avg       0.75      0.75      0.75      1200\n",
      "\n",
      "\n",
      "CONFUSION MATRIX:\n"
     ]
    },
    {
     "data": {
      "image/png": "[encoded data removed]",
      "text/plain": [
       "<Figure size 432x288 with 2 Axes>"
      ]
     },
     "metadata": {
      "needs_background": "light"
     },
     "output_type": "display_data"
    }
   ],
   "source": [
    "# DECISION TREE CLASSIFIER\n",
    "\n",
    "# Decision Tree Classifier \n",
    "dec_tree = DecisionTreeClassifier()\n",
    "\n",
    "# Fitting data\n",
    "dec_tree.fit(X_train, y_train)\n",
    "\n",
    "# Predicting the data\n",
    "dec_tree_pred = dec_tree.predict(X_test)\n",
    "\n",
    "\n",
    "# MODEL EVALUATION FOR DECISION TREE CLASSIFIER\n",
    "print(\"DECISION TREE CLASSIFIER\\n\")\n",
    "\n",
    "# Train Accuracy\n",
    "train = dec_tree.score(X_train, y_train)\n",
    "print(\"\\nTRAIN ACCURACY : \",train)\n",
    "\n",
    "# Test Accuracy\n",
    "test = dec_tree.score(X_test, y_test)\n",
    "print(\"\\nTEST ACCURACY : \",test)\n",
    "\n",
    "# Accuracy\n",
    "acc = accuracy_score(y_test,dec_tree_pred)\n",
    "print(\"\\nACCURACY : \",acc)\n",
    "\n",
    "# KFold Cross Validation\n",
    "kfold = KFold(n_splits=15)\n",
    "results = cross_val_score(dec_tree, X, y,cv=kfold)\n",
    "print(\"\\nK-FOLD CROSS VALIDATION : \",results.mean())\n",
    "\n",
    "# Classification Report\n",
    "clf_report = classification_report(y_test,dec_tree_pred)\n",
    "print(\"\\nCLASSIFICATION REPORT:\\n\", clf_report)\n",
    "\n",
    "# Confusion Matrix\n",
    "print(\"\\nCONFUSION MATRIX:\")\n",
    "sns.heatmap(confusion_matrix(y_test,dec_tree_pred),annot=True,fmt='g')\n",
    "plt.show()"
   ]
  },
  {
   "cell_type": "code",
   "execution_count": 65,
   "metadata": {},
   "outputs": [
    {
     "name": "stdout",
     "output_type": "stream",
     "text": [
      "BAGGING ENSEMBLE CLASSIFIER\n",
      "\n",
      "\n",
      "TRAIN ACCURACY :  0.7328571428571429\n",
      "\n",
      "TEST ACCURACY :  0.7025\n"
     ]
    }
   ],
   "source": [
    "# BAGGING ENSEMBLES CLASSIFIER\n",
    "\n",
    "bgclassifier = BaggingClassifier(base_estimator=dec_tree, n_estimators=20, max_features=10, max_samples=100)\n",
    "\n",
    "# Fit the bagging classifier\n",
    "bgclassifier.fit(X_train, y_train)\n",
    "\n",
    "\n",
    "# MODEL EVALUATION FOR DECISION TREE CLASSIFIER\n",
    "print(\"BAGGING ENSEMBLE CLASSIFIER\\n\")\n",
    "\n",
    "# Train Accuracy\n",
    "train = bgclassifier.score(X_train, y_train)\n",
    "print(\"\\nTRAIN ACCURACY : \",train)\n",
    "\n",
    "# Test Accuracy\n",
    "test = bgclassifier.score(X_test, y_test)\n",
    "print(\"\\nTEST ACCURACY : \",test)"
   ]
  },
  {
   "cell_type": "code",
   "execution_count": null,
   "metadata": {},
   "outputs": [],
   "source": []
  },
  {
   "cell_type": "markdown",
   "metadata": {},
   "source": [
    "HYPER PARAMETER TUNING"
   ]
  },
  {
   "cell_type": "code",
   "execution_count": 37,
   "metadata": {},
   "outputs": [
    {
     "name": "stdout",
     "output_type": "stream",
     "text": [
      "BEST PARAMETERS FOR LOGISTIC REGRESSION\n",
      "\n"
     ]
    },
    {
     "data": {
      "text/plain": [
       "{'C': 1.0, 'penalty': 'l1', 'solver': 'liblinear'}"
      ]
     },
     "execution_count": 37,
     "metadata": {},
     "output_type": "execute_result"
    }
   ],
   "source": [
    "# LOGISTIC REGRESSION \n",
    "# Grid search\n",
    "\n",
    "from sklearn.model_selection import RepeatedStratifiedKFold\n",
    "from sklearn.model_selection import GridSearchCV\n",
    "\n",
    "log_grid = {'solver' : ['newton-cg', 'lbfgs', 'liblinear'],'penalty' : ['none','l1', 'l2', 'elasticnet'],'C' : [100, 10 ,1.0, 0.1, 0.01] }\n",
    "log_cv = RepeatedStratifiedKFold(n_splits=10, n_repeats=3, random_state=1)\n",
    "log_grid_search = GridSearchCV(estimator=log, param_grid=log_grid, cv=log_cv, scoring='accuracy',error_score=0)\n",
    "log_grid_result = log_grid_search.fit(X_train, y_train)\n",
    "\n",
    "print(\"BEST PARAMETERS FOR LOGISTIC REGRESSION\\n\")\n",
    "log_grid_result.best_params_"
   ]
  },
  {
   "cell_type": "code",
   "execution_count": 66,
   "metadata": {},
   "outputs": [
    {
     "name": "stdout",
     "output_type": "stream",
     "text": [
      "\n",
      "ACCURACY :  0.795\n"
     ]
    }
   ],
   "source": [
    "log_grid_predictions = log_grid_result.predict(X_test)\n",
    "\n",
    "# Accuracy\n",
    "acc = accuracy_score(y_test,log_grid_predictions)\n",
    "print(\"\\nACCURACY : \",acc)"
   ]
  },
  {
   "cell_type": "code",
   "execution_count": 71,
   "metadata": {},
   "outputs": [
    {
     "name": "stdout",
     "output_type": "stream",
     "text": [
      "LOGISTIC REGRESSION\n",
      "\n",
      "\n",
      "TRAIN ACCURACY :  0.8046428571428571\n",
      "\n",
      "TEST ACCURACY :  0.795\n",
      "\n",
      "ACCURACY :  0.8\n",
      "\n",
      "K-FOLD CROSS VALIDATION :  0.7970065613471883\n",
      "\n",
      "CLASSIFICATION REPORT:\n",
      "               precision    recall  f1-score   support\n",
      "\n",
      "           0       0.81      0.86      0.83       726\n",
      "           1       0.76      0.70      0.73       474\n",
      "\n",
      "    accuracy                           0.80      1200\n",
      "   macro avg       0.79      0.78      0.78      1200\n",
      "weighted avg       0.79      0.80      0.79      1200\n",
      "\n",
      "\n",
      "CONFUSION MATRIX:\n"
     ]
    },
    {
     "data": {
      "image/png": "[encoded data removed]",
      "text/plain": [
       "<Figure size 432x288 with 2 Axes>"
      ]
     },
     "metadata": {
      "needs_background": "light"
     },
     "output_type": "display_data"
    }
   ],
   "source": [
    "# LOGISTIC REGRESSION\n",
    "from sklearn.linear_model import LogisticRegression\n",
    "\n",
    "# Logistic Regression Model \n",
    "Hlog = LogisticRegression(C = 1.0, penalty = 'l1', solver = 'liblinear')\n",
    "\n",
    "# Fitting data\n",
    "Hlog.fit(X_train, y_train)\n",
    "\n",
    "# Predicting the data\n",
    "Hlog_pred = log.predict(X_test)\n",
    "\n",
    "\n",
    "# MODEL EVALUATION FOR LOGISTIC REGRESSION\n",
    "print(\"LOGISTIC REGRESSION\\n\")\n",
    "\n",
    "# Train Accuracy\n",
    "train = Hlog.score(X_train, y_train)\n",
    "print(\"\\nTRAIN ACCURACY : \",train)\n",
    "\n",
    "# Test Accuracy\n",
    "test = Hlog.score(X_test, y_test)\n",
    "print(\"\\nTEST ACCURACY : \",test)\n",
    "\n",
    "# Accuracy\n",
    "acc = accuracy_score(y_test,Hlog_pred)\n",
    "print(\"\\nACCURACY : \",acc.round(2))\n",
    "\n",
    "# KFold Cross Validation\n",
    "kfold = KFold(n_splits=15)\n",
    "results = cross_val_score(Hlog, X, y,cv=kfold)\n",
    "print(\"\\nK-FOLD CROSS VALIDATION : \",results.mean())\n",
    "\n",
    "# Classification Report\n",
    "clf_report = classification_report(y_test,Hlog_pred)\n",
    "print(\"\\nCLASSIFICATION REPORT:\\n\", clf_report)\n",
    "\n",
    "# Confusion Matrix\n",
    "print(\"\\nCONFUSION MATRIX:\")\n",
    "sns.heatmap(confusion_matrix(y_test,Hlog_pred),annot=True,fmt='g')\n",
    "plt.show()"
   ]
  },
  {
   "cell_type": "code",
   "execution_count": null,
   "metadata": {},
   "outputs": [],
   "source": []
  },
  {
   "cell_type": "code",
   "execution_count": 40,
   "metadata": {},
   "outputs": [
    {
     "name": "stdout",
     "output_type": "stream",
     "text": [
      "BEST PARAMETERS FOR DECISION TREE CLASSIFIER\n",
      "\n"
     ]
    },
    {
     "data": {
      "text/plain": [
       "{'criterion': 'gini',\n",
       " 'max_depth': 6,\n",
       " 'min_samples_leaf': 1,\n",
       " 'min_samples_split': 9}"
      ]
     },
     "execution_count": 40,
     "metadata": {},
     "output_type": "execute_result"
    }
   ],
   "source": [
    "# DECISION TREE CLASSIFIER\n",
    "\n",
    "\n",
    "dt_model = DecisionTreeClassifier()\n",
    "\n",
    "dt_grid = { 'criterion':['gini','entropy'],'max_depth': np.arange(1, 10),'min_samples_split':range(1,10),'min_samples_leaf':range(1,5)}\n",
    "dt_cv = RepeatedStratifiedKFold(n_splits=10, n_repeats=3, random_state=1)\n",
    "dt_grid_search = GridSearchCV(estimator=dt_model, param_grid=dt_grid, cv=dt_cv, scoring='accuracy',error_score=0)\n",
    "dt_grid_result=dt_grid_search.fit(X_train,y_train) \n",
    "\n",
    "print(\"BEST PARAMETERS FOR DECISION TREE CLASSIFIER\\n\")\n",
    "dt_grid_result.best_params_\n"
   ]
  },
  {
   "cell_type": "code",
   "execution_count": 68,
   "metadata": {},
   "outputs": [
    {
     "name": "stdout",
     "output_type": "stream",
     "text": [
      "\n",
      "ACCURACY :  0.7733333333333333\n"
     ]
    }
   ],
   "source": [
    "dt_grid_predictions = dt_grid_result.predict(X_test)\n",
    "\n",
    "# Accuracy\n",
    "acc = accuracy_score(y_test,dt_grid_predictions)\n",
    "print(\"\\nACCURACY : \",acc)"
   ]
  },
  {
   "cell_type": "code",
   "execution_count": 69,
   "metadata": {},
   "outputs": [
    {
     "name": "stdout",
     "output_type": "stream",
     "text": [
      "DECISION TREE CLASSIFIER\n",
      "\n",
      "\n",
      "TRAIN ACCURACY :  0.8292857142857143\n",
      "\n",
      "TEST ACCURACY :  0.7716666666666666\n",
      "\n",
      "ACCURACY :  0.7716666666666666\n",
      "\n",
      "K-FOLD CROSS VALIDATION :  0.7952465433246036\n",
      "\n",
      "CLASSIFICATION REPORT:\n",
      "               precision    recall  f1-score   support\n",
      "\n",
      "           0       0.83      0.78      0.80       726\n",
      "           1       0.69      0.76      0.73       474\n",
      "\n",
      "    accuracy                           0.77      1200\n",
      "   macro avg       0.76      0.77      0.77      1200\n",
      "weighted avg       0.78      0.77      0.77      1200\n",
      "\n",
      "\n",
      "CONFUSION MATRIX:\n"
     ]
    },
    {
     "data": {
      "image/png": "[encoded data removed]",
      "text/plain": [
       "<Figure size 432x288 with 2 Axes>"
      ]
     },
     "metadata": {
      "needs_background": "light"
     },
     "output_type": "display_data"
    }
   ],
   "source": [
    "# DECISION TREE CLASSIFIER\n",
    "\n",
    "# Decision Tree Classifier \n",
    "Hdec_tree = DecisionTreeClassifier(criterion= 'gini',max_depth= 6,min_samples_leaf= 2,min_samples_split= 9)\n",
    "\n",
    "# Fitting data\n",
    "Hdec_tree.fit(X_train, y_train)\n",
    "\n",
    "# Predicting the data\n",
    "Hdec_tree_pred = Hdec_tree.predict(X_test)\n",
    "\n",
    "\n",
    "# MODEL EVALUATION FOR DECISION TREE CLASSIFIER\n",
    "print(\"DECISION TREE CLASSIFIER\\n\")\n",
    "\n",
    "# Train Accuracy\n",
    "train = Hdec_tree.score(X_train, y_train)\n",
    "print(\"\\nTRAIN ACCURACY : \",train)\n",
    "\n",
    "# Test Accuracy\n",
    "test = Hdec_tree.score(X_test, y_test)\n",
    "print(\"\\nTEST ACCURACY : \",test)\n",
    "\n",
    "# Accuracy\n",
    "acc = accuracy_score(y_test,Hdec_tree_pred)\n",
    "print(\"\\nACCURACY : \",acc)\n",
    "\n",
    "# KFold Cross Validation\n",
    "kfold = KFold(n_splits=15)\n",
    "results = cross_val_score(Hdec_tree, X, y,cv=kfold)\n",
    "print(\"\\nK-FOLD CROSS VALIDATION : \",results.mean())\n",
    "\n",
    "# Classification Report\n",
    "clf_report = classification_report(y_test,Hdec_tree_pred)\n",
    "print(\"\\nCLASSIFICATION REPORT:\\n\", clf_report)\n",
    "\n",
    "# Confusion Matrix\n",
    "print(\"\\nCONFUSION MATRIX:\")\n",
    "sns.heatmap(confusion_matrix(y_test,Hdec_tree_pred),annot=True,fmt='g')\n",
    "plt.show()"
   ]
  },
  {
   "cell_type": "code",
   "execution_count": null,
   "metadata": {},
   "outputs": [],
   "source": []
  },
  {
   "cell_type": "markdown",
   "metadata": {},
   "source": [
    "# NEW DATASET PREDICTION"
   ]
  },
  {
   "cell_type": "code",
   "execution_count": 43,
   "metadata": {},
   "outputs": [
    {
     "name": "stdout",
     "output_type": "stream",
     "text": [
      "----DATASET LOADED----\n"
     ]
    }
   ],
   "source": [
    "# LOADING TRAIN DATA\n",
    "\n",
    "test_df = pd.read_csv(\"carInsurance_test.csv\")\n",
    "print(\"----DATASET LOADED----\")"
   ]
  },
  {
   "cell_type": "code",
   "execution_count": 44,
   "metadata": {},
   "outputs": [
    {
     "data": {
      "text/html": [
       "<div>\n",
       "<style scoped>\n",
       "    .dataframe tbody tr th:only-of-type {\n",
       "        vertical-align: middle;\n",
       "    }\n",
       "\n",
       "    .dataframe tbody tr th {\n",
       "        vertical-align: top;\n",
       "    }\n",
       "\n",
       "    .dataframe thead th {\n",
       "        text-align: right;\n",
       "    }\n",
       "</style>\n",
       "<table border=\"1\" class=\"dataframe\">\n",
       "  <thead>\n",
       "    <tr style=\"text-align: right;\">\n",
       "      <th></th>\n",
       "      <th>Id</th>\n",
       "      <th>Age</th>\n",
       "      <th>Job</th>\n",
       "      <th>Marital</th>\n",
       "      <th>Education</th>\n",
       "      <th>Default</th>\n",
       "      <th>Balance</th>\n",
       "      <th>HHInsurance</th>\n",
       "      <th>CarLoan</th>\n",
       "      <th>Communication</th>\n",
       "      <th>LastContactDay</th>\n",
       "      <th>LastContactMonth</th>\n",
       "      <th>NoOfContacts</th>\n",
       "      <th>DaysPassed</th>\n",
       "      <th>PrevAttempts</th>\n",
       "      <th>Outcome</th>\n",
       "      <th>CallStart</th>\n",
       "      <th>CallEnd</th>\n",
       "      <th>CarInsurance</th>\n",
       "    </tr>\n",
       "  </thead>\n",
       "  <tbody>\n",
       "    <tr>\n",
       "      <th>0</th>\n",
       "      <td>4001</td>\n",
       "      <td>25</td>\n",
       "      <td>admin.</td>\n",
       "      <td>single</td>\n",
       "      <td>secondary</td>\n",
       "      <td>0</td>\n",
       "      <td>1</td>\n",
       "      <td>1</td>\n",
       "      <td>1</td>\n",
       "      <td>NaN</td>\n",
       "      <td>12</td>\n",
       "      <td>may</td>\n",
       "      <td>12</td>\n",
       "      <td>-1</td>\n",
       "      <td>0</td>\n",
       "      <td>NaN</td>\n",
       "      <td>17:17:42</td>\n",
       "      <td>17:18:06</td>\n",
       "      <td>NaN</td>\n",
       "    </tr>\n",
       "    <tr>\n",
       "      <th>1</th>\n",
       "      <td>4002</td>\n",
       "      <td>40</td>\n",
       "      <td>management</td>\n",
       "      <td>married</td>\n",
       "      <td>tertiary</td>\n",
       "      <td>0</td>\n",
       "      <td>0</td>\n",
       "      <td>1</td>\n",
       "      <td>1</td>\n",
       "      <td>cellular</td>\n",
       "      <td>24</td>\n",
       "      <td>jul</td>\n",
       "      <td>1</td>\n",
       "      <td>-1</td>\n",
       "      <td>0</td>\n",
       "      <td>NaN</td>\n",
       "      <td>09:13:44</td>\n",
       "      <td>09:14:37</td>\n",
       "      <td>NaN</td>\n",
       "    </tr>\n",
       "    <tr>\n",
       "      <th>2</th>\n",
       "      <td>4003</td>\n",
       "      <td>44</td>\n",
       "      <td>management</td>\n",
       "      <td>single</td>\n",
       "      <td>tertiary</td>\n",
       "      <td>0</td>\n",
       "      <td>-1313</td>\n",
       "      <td>1</td>\n",
       "      <td>1</td>\n",
       "      <td>cellular</td>\n",
       "      <td>15</td>\n",
       "      <td>may</td>\n",
       "      <td>10</td>\n",
       "      <td>-1</td>\n",
       "      <td>0</td>\n",
       "      <td>NaN</td>\n",
       "      <td>15:24:07</td>\n",
       "      <td>15:25:51</td>\n",
       "      <td>NaN</td>\n",
       "    </tr>\n",
       "    <tr>\n",
       "      <th>3</th>\n",
       "      <td>4004</td>\n",
       "      <td>27</td>\n",
       "      <td>services</td>\n",
       "      <td>single</td>\n",
       "      <td>secondary</td>\n",
       "      <td>0</td>\n",
       "      <td>6279</td>\n",
       "      <td>1</td>\n",
       "      <td>0</td>\n",
       "      <td>cellular</td>\n",
       "      <td>9</td>\n",
       "      <td>nov</td>\n",
       "      <td>1</td>\n",
       "      <td>-1</td>\n",
       "      <td>0</td>\n",
       "      <td>NaN</td>\n",
       "      <td>09:43:44</td>\n",
       "      <td>09:48:01</td>\n",
       "      <td>NaN</td>\n",
       "    </tr>\n",
       "    <tr>\n",
       "      <th>4</th>\n",
       "      <td>4005</td>\n",
       "      <td>53</td>\n",
       "      <td>technician</td>\n",
       "      <td>married</td>\n",
       "      <td>secondary</td>\n",
       "      <td>0</td>\n",
       "      <td>7984</td>\n",
       "      <td>1</td>\n",
       "      <td>0</td>\n",
       "      <td>cellular</td>\n",
       "      <td>2</td>\n",
       "      <td>feb</td>\n",
       "      <td>1</td>\n",
       "      <td>-1</td>\n",
       "      <td>0</td>\n",
       "      <td>NaN</td>\n",
       "      <td>16:31:51</td>\n",
       "      <td>16:34:22</td>\n",
       "      <td>NaN</td>\n",
       "    </tr>\n",
       "  </tbody>\n",
       "</table>\n",
       "</div>"
      ],
      "text/plain": [
       "     Id  Age         Job  Marital  Education  Default  Balance  HHInsurance  \\\n",
       "0  4001   25      admin.   single  secondary        0        1            1   \n",
       "1  4002   40  management  married   tertiary        0        0            1   \n",
       "2  4003   44  management   single   tertiary        0    -1313            1   \n",
       "3  4004   27    services   single  secondary        0     6279            1   \n",
       "4  4005   53  technician  married  secondary        0     7984            1   \n",
       "\n",
       "   CarLoan Communication  LastContactDay LastContactMonth  NoOfContacts  \\\n",
       "0        1           NaN              12              may            12   \n",
       "1        1      cellular              24              jul             1   \n",
       "2        1      cellular              15              may            10   \n",
       "3        0      cellular               9              nov             1   \n",
       "4        0      cellular               2              feb             1   \n",
       "\n",
       "   DaysPassed  PrevAttempts Outcome CallStart   CallEnd  CarInsurance  \n",
       "0          -1             0     NaN  17:17:42  17:18:06           NaN  \n",
       "1          -1             0     NaN  09:13:44  09:14:37           NaN  \n",
       "2          -1             0     NaN  15:24:07  15:25:51           NaN  \n",
       "3          -1             0     NaN  09:43:44  09:48:01           NaN  \n",
       "4          -1             0     NaN  16:31:51  16:34:22           NaN  "
      ]
     },
     "execution_count": 44,
     "metadata": {},
     "output_type": "execute_result"
    }
   ],
   "source": [
    "# PREVIEW OF THE DATA\n",
    "\n",
    "test_df.head()"
   ]
  },
  {
   "cell_type": "code",
   "execution_count": 45,
   "metadata": {},
   "outputs": [
    {
     "data": {
      "text/plain": [
       "Id                     0\n",
       "Age                    0\n",
       "Job                    5\n",
       "Marital                0\n",
       "Education             47\n",
       "Default                0\n",
       "Balance                0\n",
       "HHInsurance            0\n",
       "CarLoan                0\n",
       "Communication        221\n",
       "LastContactDay         0\n",
       "LastContactMonth       0\n",
       "NoOfContacts           0\n",
       "DaysPassed             0\n",
       "PrevAttempts           0\n",
       "Outcome              757\n",
       "CallStart              0\n",
       "CallEnd                0\n",
       "CarInsurance        1000\n",
       "dtype: int64"
      ]
     },
     "execution_count": 45,
     "metadata": {},
     "output_type": "execute_result"
    }
   ],
   "source": [
    "# CHECKING MISSING VALUES\n",
    "\n",
    "test_df.isna().sum()"
   ]
  },
  {
   "cell_type": "code",
   "execution_count": 46,
   "metadata": {},
   "outputs": [],
   "source": [
    "# MAPPING CATEGORICAL COLUMNS\n",
    "\n",
    "test_df['Communication'] = test_df.Communication.map({'telephone' : 0, 'cellular' : 1})\n",
    "test_df['Education'] =test_df.Education.map({'primary' : 1 , 'secondary' : 2, 'tertiary' : 3})\n",
    "test_df['Marital'] = test_df.Marital.map({'single' : 1, 'married' : 2, 'divorced': 3})\n",
    "test_df['LastContactMonth'] = test_df.LastContactMonth.map({'jan' :1, 'feb' : 2, 'mar' : 3, 'apr'  :4, 'may' :5, 'jun' : 6, 'jul' : 7, 'aug' :8, 'sep':9,  'oct' :10, 'nov' :11, 'dec' :12})"
   ]
  },
  {
   "cell_type": "code",
   "execution_count": 47,
   "metadata": {},
   "outputs": [],
   "source": [
    "# HANDLING MISSING VALUES\n",
    "\n",
    "def impute_nan(df,variable):\n",
    "    most_frequent_category=df[variable].value_counts().mode()[0]\n",
    "    df[variable].fillna(most_frequent_category,inplace=True)\n",
    "    \n",
    "for feature in ['Job','Education','Communication']:\n",
    "    impute_nan(test_df,feature)\n"
   ]
  },
  {
   "cell_type": "code",
   "execution_count": 48,
   "metadata": {},
   "outputs": [],
   "source": [
    "# ENCODING JOB FEATURES\n",
    "\n",
    "def onehot_encode(test_df, columns):\n",
    "    dummies = pd.get_dummies(test_df[columns], prefix = columns)\n",
    "    test_df = pd.concat([test_df, dummies], axis =1)\n",
    "    test_df = test_df.drop(columns, axis=1)\n",
    "    \n",
    "    return test_df\n",
    "\n",
    "test_df = onehot_encode(test_df, 'Job')"
   ]
  },
  {
   "cell_type": "code",
   "execution_count": 49,
   "metadata": {},
   "outputs": [],
   "source": [
    "# DROP OF OUTCOME ATTRIBUTE\n",
    "\n",
    "test_df.drop(['Outcome'],axis =1, inplace = True)"
   ]
  },
  {
   "cell_type": "code",
   "execution_count": 50,
   "metadata": {},
   "outputs": [],
   "source": [
    "# CALCULATING TOTAL CALL DURATION AND CONVERTING IT TO SECONDS\n",
    "\n",
    "# Converting the type of \"CallStart\" & \"CallEnd\" to Datetime.\n",
    "test_df[['CallStart','CallEnd']]=test_df[['CallStart','CallEnd']].astype('datetime64[ns]')\n",
    "\n",
    "# Calculating the total Call Duration\n",
    "test_df['Call_Duration']=test_df['CallEnd']-test_df['CallStart']\n",
    "\n",
    "# Extracting the time & converting it to seconds\n",
    "test_df['Call_Duration']=test_df['Call_Duration'].dt.components['minutes']*60 + test_df['Call_Duration'].dt.components['seconds']\n"
   ]
  },
  {
   "cell_type": "code",
   "execution_count": 51,
   "metadata": {},
   "outputs": [],
   "source": [
    "# DROP OF UNWANTED COLUMNS\n",
    "\n",
    "test_df.drop(['Id', 'CallEnd', 'CallStart'],axis =1, inplace = True)"
   ]
  },
  {
   "cell_type": "code",
   "execution_count": 52,
   "metadata": {},
   "outputs": [
    {
     "data": {
      "text/html": [
       "<div>\n",
       "<style scoped>\n",
       "    .dataframe tbody tr th:only-of-type {\n",
       "        vertical-align: middle;\n",
       "    }\n",
       "\n",
       "    .dataframe tbody tr th {\n",
       "        vertical-align: top;\n",
       "    }\n",
       "\n",
       "    .dataframe thead th {\n",
       "        text-align: right;\n",
       "    }\n",
       "</style>\n",
       "<table border=\"1\" class=\"dataframe\">\n",
       "  <thead>\n",
       "    <tr style=\"text-align: right;\">\n",
       "      <th></th>\n",
       "      <th>Age</th>\n",
       "      <th>Marital</th>\n",
       "      <th>Education</th>\n",
       "      <th>Default</th>\n",
       "      <th>Balance</th>\n",
       "      <th>HHInsurance</th>\n",
       "      <th>CarLoan</th>\n",
       "      <th>Communication</th>\n",
       "      <th>LastContactDay</th>\n",
       "      <th>LastContactMonth</th>\n",
       "      <th>...</th>\n",
       "      <th>Job_entrepreneur</th>\n",
       "      <th>Job_housemaid</th>\n",
       "      <th>Job_management</th>\n",
       "      <th>Job_retired</th>\n",
       "      <th>Job_self-employed</th>\n",
       "      <th>Job_services</th>\n",
       "      <th>Job_student</th>\n",
       "      <th>Job_technician</th>\n",
       "      <th>Job_unemployed</th>\n",
       "      <th>Call_Duration</th>\n",
       "    </tr>\n",
       "  </thead>\n",
       "  <tbody>\n",
       "    <tr>\n",
       "      <th>0</th>\n",
       "      <td>25</td>\n",
       "      <td>1</td>\n",
       "      <td>2.0</td>\n",
       "      <td>0</td>\n",
       "      <td>1</td>\n",
       "      <td>1</td>\n",
       "      <td>1</td>\n",
       "      <td>81.0</td>\n",
       "      <td>12</td>\n",
       "      <td>5</td>\n",
       "      <td>...</td>\n",
       "      <td>0</td>\n",
       "      <td>0</td>\n",
       "      <td>0</td>\n",
       "      <td>0</td>\n",
       "      <td>0</td>\n",
       "      <td>0</td>\n",
       "      <td>0</td>\n",
       "      <td>0</td>\n",
       "      <td>0</td>\n",
       "      <td>24</td>\n",
       "    </tr>\n",
       "    <tr>\n",
       "      <th>1</th>\n",
       "      <td>40</td>\n",
       "      <td>2</td>\n",
       "      <td>3.0</td>\n",
       "      <td>0</td>\n",
       "      <td>0</td>\n",
       "      <td>1</td>\n",
       "      <td>1</td>\n",
       "      <td>1.0</td>\n",
       "      <td>24</td>\n",
       "      <td>7</td>\n",
       "      <td>...</td>\n",
       "      <td>0</td>\n",
       "      <td>0</td>\n",
       "      <td>1</td>\n",
       "      <td>0</td>\n",
       "      <td>0</td>\n",
       "      <td>0</td>\n",
       "      <td>0</td>\n",
       "      <td>0</td>\n",
       "      <td>0</td>\n",
       "      <td>53</td>\n",
       "    </tr>\n",
       "    <tr>\n",
       "      <th>2</th>\n",
       "      <td>44</td>\n",
       "      <td>1</td>\n",
       "      <td>3.0</td>\n",
       "      <td>0</td>\n",
       "      <td>-1313</td>\n",
       "      <td>1</td>\n",
       "      <td>1</td>\n",
       "      <td>1.0</td>\n",
       "      <td>15</td>\n",
       "      <td>5</td>\n",
       "      <td>...</td>\n",
       "      <td>0</td>\n",
       "      <td>0</td>\n",
       "      <td>1</td>\n",
       "      <td>0</td>\n",
       "      <td>0</td>\n",
       "      <td>0</td>\n",
       "      <td>0</td>\n",
       "      <td>0</td>\n",
       "      <td>0</td>\n",
       "      <td>104</td>\n",
       "    </tr>\n",
       "    <tr>\n",
       "      <th>3</th>\n",
       "      <td>27</td>\n",
       "      <td>1</td>\n",
       "      <td>2.0</td>\n",
       "      <td>0</td>\n",
       "      <td>6279</td>\n",
       "      <td>1</td>\n",
       "      <td>0</td>\n",
       "      <td>1.0</td>\n",
       "      <td>9</td>\n",
       "      <td>11</td>\n",
       "      <td>...</td>\n",
       "      <td>0</td>\n",
       "      <td>0</td>\n",
       "      <td>0</td>\n",
       "      <td>0</td>\n",
       "      <td>0</td>\n",
       "      <td>1</td>\n",
       "      <td>0</td>\n",
       "      <td>0</td>\n",
       "      <td>0</td>\n",
       "      <td>257</td>\n",
       "    </tr>\n",
       "    <tr>\n",
       "      <th>4</th>\n",
       "      <td>53</td>\n",
       "      <td>2</td>\n",
       "      <td>2.0</td>\n",
       "      <td>0</td>\n",
       "      <td>7984</td>\n",
       "      <td>1</td>\n",
       "      <td>0</td>\n",
       "      <td>1.0</td>\n",
       "      <td>2</td>\n",
       "      <td>2</td>\n",
       "      <td>...</td>\n",
       "      <td>0</td>\n",
       "      <td>0</td>\n",
       "      <td>0</td>\n",
       "      <td>0</td>\n",
       "      <td>0</td>\n",
       "      <td>0</td>\n",
       "      <td>0</td>\n",
       "      <td>1</td>\n",
       "      <td>0</td>\n",
       "      <td>151</td>\n",
       "    </tr>\n",
       "  </tbody>\n",
       "</table>\n",
       "<p>5 rows × 27 columns</p>\n",
       "</div>"
      ],
      "text/plain": [
       "   Age  Marital  Education  Default  Balance  HHInsurance  CarLoan  \\\n",
       "0   25        1        2.0        0        1            1        1   \n",
       "1   40        2        3.0        0        0            1        1   \n",
       "2   44        1        3.0        0    -1313            1        1   \n",
       "3   27        1        2.0        0     6279            1        0   \n",
       "4   53        2        2.0        0     7984            1        0   \n",
       "\n",
       "   Communication  LastContactDay  LastContactMonth  ...  Job_entrepreneur  \\\n",
       "0           81.0              12                 5  ...                 0   \n",
       "1            1.0              24                 7  ...                 0   \n",
       "2            1.0              15                 5  ...                 0   \n",
       "3            1.0               9                11  ...                 0   \n",
       "4            1.0               2                 2  ...                 0   \n",
       "\n",
       "   Job_housemaid  Job_management  Job_retired  Job_self-employed  \\\n",
       "0              0               0            0                  0   \n",
       "1              0               1            0                  0   \n",
       "2              0               1            0                  0   \n",
       "3              0               0            0                  0   \n",
       "4              0               0            0                  0   \n",
       "\n",
       "   Job_services  Job_student  Job_technician  Job_unemployed  Call_Duration  \n",
       "0             0            0               0               0             24  \n",
       "1             0            0               0               0             53  \n",
       "2             0            0               0               0            104  \n",
       "3             1            0               0               0            257  \n",
       "4             0            0               1               0            151  \n",
       "\n",
       "[5 rows x 27 columns]"
      ]
     },
     "execution_count": 52,
     "metadata": {},
     "output_type": "execute_result"
    }
   ],
   "source": [
    "# PREVIEW OF THE DATA\n",
    "\n",
    "test_df.head()"
   ]
  },
  {
   "cell_type": "code",
   "execution_count": 53,
   "metadata": {},
   "outputs": [
    {
     "name": "stdout",
     "output_type": "stream",
     "text": [
      "<class 'pandas.core.frame.DataFrame'>\n",
      "RangeIndex: 1000 entries, 0 to 999\n",
      "Data columns (total 27 columns):\n",
      " #   Column             Non-Null Count  Dtype  \n",
      "---  ------             --------------  -----  \n",
      " 0   Age                1000 non-null   int64  \n",
      " 1   Marital            1000 non-null   int64  \n",
      " 2   Education          1000 non-null   float64\n",
      " 3   Default            1000 non-null   int64  \n",
      " 4   Balance            1000 non-null   int64  \n",
      " 5   HHInsurance        1000 non-null   int64  \n",
      " 6   CarLoan            1000 non-null   int64  \n",
      " 7   Communication      1000 non-null   float64\n",
      " 8   LastContactDay     1000 non-null   int64  \n",
      " 9   LastContactMonth   1000 non-null   int64  \n",
      " 10  NoOfContacts       1000 non-null   int64  \n",
      " 11  DaysPassed         1000 non-null   int64  \n",
      " 12  PrevAttempts       1000 non-null   int64  \n",
      " 13  CarInsurance       0 non-null      float64\n",
      " 14  Job_14             1000 non-null   uint8  \n",
      " 15  Job_admin.         1000 non-null   uint8  \n",
      " 16  Job_blue-collar    1000 non-null   uint8  \n",
      " 17  Job_entrepreneur   1000 non-null   uint8  \n",
      " 18  Job_housemaid      1000 non-null   uint8  \n",
      " 19  Job_management     1000 non-null   uint8  \n",
      " 20  Job_retired        1000 non-null   uint8  \n",
      " 21  Job_self-employed  1000 non-null   uint8  \n",
      " 22  Job_services       1000 non-null   uint8  \n",
      " 23  Job_student        1000 non-null   uint8  \n",
      " 24  Job_technician     1000 non-null   uint8  \n",
      " 25  Job_unemployed     1000 non-null   uint8  \n",
      " 26  Call_Duration      1000 non-null   int64  \n",
      "dtypes: float64(3), int64(12), uint8(12)\n",
      "memory usage: 129.0 KB\n"
     ]
    }
   ],
   "source": [
    "# INFORMATION OF THE DATA\n",
    "\n",
    "test_df.info()"
   ]
  },
  {
   "cell_type": "code",
   "execution_count": 54,
   "metadata": {},
   "outputs": [
    {
     "data": {
      "text/plain": [
       "Index(['Age', 'Marital', 'Education', 'Default', 'Balance', 'HHInsurance',\n",
       "       'CarLoan', 'Communication', 'LastContactDay', 'LastContactMonth',\n",
       "       'NoOfContacts', 'DaysPassed', 'PrevAttempts', 'CarInsurance', 'Job_14',\n",
       "       'Job_admin.', 'Job_blue-collar', 'Job_entrepreneur', 'Job_housemaid',\n",
       "       'Job_management', 'Job_retired', 'Job_self-employed', 'Job_services',\n",
       "       'Job_student', 'Job_technician', 'Job_unemployed', 'Call_Duration'],\n",
       "      dtype='object')"
      ]
     },
     "execution_count": 54,
     "metadata": {},
     "output_type": "execute_result"
    }
   ],
   "source": [
    "# INFORMATION OF THE DATA\n",
    "\n",
    "test_df.columns"
   ]
  },
  {
   "cell_type": "code",
   "execution_count": 55,
   "metadata": {},
   "outputs": [
    {
     "data": {
      "text/plain": [
       "will not buy insurance    637\n",
       "will buy insurance        363\n",
       "Name: CarInsurance, dtype: int64"
      ]
     },
     "execution_count": 55,
     "metadata": {},
     "output_type": "execute_result"
    }
   ],
   "source": [
    "log.fit(X,y)\n",
    "X_test = test_df.drop(\"CarInsurance\", axis = 1)\n",
    "test_df[\"CarInsurance\"] = log.predict(X_test)\n",
    "test_df[\"CarInsurance\"] = test_df[\"CarInsurance\"].apply(lambda x: \"will not buy insurance\" if x==0 else \"will buy insurance\")\n",
    "\n",
    "\n",
    "columns = ['Age', 'Marital', 'Education', 'Default', 'Balance', 'HHInsurance','CarLoan', 'Communication', 'LastContactDay', \n",
    "           'LastContactMonth','NoOfContacts', 'DaysPassed', 'PrevAttempts', 'Job_14','Job_admin.', \n",
    "           'Job_blue-collar', 'Job_entrepreneur', 'Job_housemaid','Job_management', 'Job_retired', 'Job_self-employed', \n",
    "           'Job_services', 'Job_student', 'Job_technician', 'Job_unemployed', 'Call_Duration', 'CarInsurance']\n",
    "\n",
    "\n",
    "test_df = test_df[columns]\n",
    "test_df[\"CarInsurance\"].value_counts()"
   ]
  },
  {
   "cell_type": "code",
   "execution_count": 56,
   "metadata": {},
   "outputs": [],
   "source": [
    "test_df.to_csv(\"Insurance Purchase Forcast.csv\")"
   ]
  },
  {
   "cell_type": "code",
   "execution_count": 57,
   "metadata": {},
   "outputs": [
    {
     "data": {
      "text/html": [
       "<div>\n",
       "<style scoped>\n",
       "    .dataframe tbody tr th:only-of-type {\n",
       "        vertical-align: middle;\n",
       "    }\n",
       "\n",
       "    .dataframe tbody tr th {\n",
       "        vertical-align: top;\n",
       "    }\n",
       "\n",
       "    .dataframe thead th {\n",
       "        text-align: right;\n",
       "    }\n",
       "</style>\n",
       "<table border=\"1\" class=\"dataframe\">\n",
       "  <thead>\n",
       "    <tr style=\"text-align: right;\">\n",
       "      <th></th>\n",
       "      <th>Age</th>\n",
       "      <th>Marital</th>\n",
       "      <th>Education</th>\n",
       "      <th>Default</th>\n",
       "      <th>Balance</th>\n",
       "      <th>HHInsurance</th>\n",
       "      <th>CarLoan</th>\n",
       "      <th>Communication</th>\n",
       "      <th>LastContactDay</th>\n",
       "      <th>LastContactMonth</th>\n",
       "      <th>...</th>\n",
       "      <th>Job_housemaid</th>\n",
       "      <th>Job_management</th>\n",
       "      <th>Job_retired</th>\n",
       "      <th>Job_self-employed</th>\n",
       "      <th>Job_services</th>\n",
       "      <th>Job_student</th>\n",
       "      <th>Job_technician</th>\n",
       "      <th>Job_unemployed</th>\n",
       "      <th>Call_Duration</th>\n",
       "      <th>CarInsurance</th>\n",
       "    </tr>\n",
       "  </thead>\n",
       "  <tbody>\n",
       "    <tr>\n",
       "      <th>0</th>\n",
       "      <td>25</td>\n",
       "      <td>1</td>\n",
       "      <td>2.0</td>\n",
       "      <td>0</td>\n",
       "      <td>1</td>\n",
       "      <td>1</td>\n",
       "      <td>1</td>\n",
       "      <td>81.0</td>\n",
       "      <td>12</td>\n",
       "      <td>5</td>\n",
       "      <td>...</td>\n",
       "      <td>0</td>\n",
       "      <td>0</td>\n",
       "      <td>0</td>\n",
       "      <td>0</td>\n",
       "      <td>0</td>\n",
       "      <td>0</td>\n",
       "      <td>0</td>\n",
       "      <td>0</td>\n",
       "      <td>24</td>\n",
       "      <td>will not buy insurance</td>\n",
       "    </tr>\n",
       "    <tr>\n",
       "      <th>1</th>\n",
       "      <td>40</td>\n",
       "      <td>2</td>\n",
       "      <td>3.0</td>\n",
       "      <td>0</td>\n",
       "      <td>0</td>\n",
       "      <td>1</td>\n",
       "      <td>1</td>\n",
       "      <td>1.0</td>\n",
       "      <td>24</td>\n",
       "      <td>7</td>\n",
       "      <td>...</td>\n",
       "      <td>0</td>\n",
       "      <td>1</td>\n",
       "      <td>0</td>\n",
       "      <td>0</td>\n",
       "      <td>0</td>\n",
       "      <td>0</td>\n",
       "      <td>0</td>\n",
       "      <td>0</td>\n",
       "      <td>53</td>\n",
       "      <td>will not buy insurance</td>\n",
       "    </tr>\n",
       "    <tr>\n",
       "      <th>2</th>\n",
       "      <td>44</td>\n",
       "      <td>1</td>\n",
       "      <td>3.0</td>\n",
       "      <td>0</td>\n",
       "      <td>-1313</td>\n",
       "      <td>1</td>\n",
       "      <td>1</td>\n",
       "      <td>1.0</td>\n",
       "      <td>15</td>\n",
       "      <td>5</td>\n",
       "      <td>...</td>\n",
       "      <td>0</td>\n",
       "      <td>1</td>\n",
       "      <td>0</td>\n",
       "      <td>0</td>\n",
       "      <td>0</td>\n",
       "      <td>0</td>\n",
       "      <td>0</td>\n",
       "      <td>0</td>\n",
       "      <td>104</td>\n",
       "      <td>will not buy insurance</td>\n",
       "    </tr>\n",
       "    <tr>\n",
       "      <th>3</th>\n",
       "      <td>27</td>\n",
       "      <td>1</td>\n",
       "      <td>2.0</td>\n",
       "      <td>0</td>\n",
       "      <td>6279</td>\n",
       "      <td>1</td>\n",
       "      <td>0</td>\n",
       "      <td>1.0</td>\n",
       "      <td>9</td>\n",
       "      <td>11</td>\n",
       "      <td>...</td>\n",
       "      <td>0</td>\n",
       "      <td>0</td>\n",
       "      <td>0</td>\n",
       "      <td>0</td>\n",
       "      <td>1</td>\n",
       "      <td>0</td>\n",
       "      <td>0</td>\n",
       "      <td>0</td>\n",
       "      <td>257</td>\n",
       "      <td>will not buy insurance</td>\n",
       "    </tr>\n",
       "    <tr>\n",
       "      <th>4</th>\n",
       "      <td>53</td>\n",
       "      <td>2</td>\n",
       "      <td>2.0</td>\n",
       "      <td>0</td>\n",
       "      <td>7984</td>\n",
       "      <td>1</td>\n",
       "      <td>0</td>\n",
       "      <td>1.0</td>\n",
       "      <td>2</td>\n",
       "      <td>2</td>\n",
       "      <td>...</td>\n",
       "      <td>0</td>\n",
       "      <td>0</td>\n",
       "      <td>0</td>\n",
       "      <td>0</td>\n",
       "      <td>0</td>\n",
       "      <td>0</td>\n",
       "      <td>1</td>\n",
       "      <td>0</td>\n",
       "      <td>151</td>\n",
       "      <td>will not buy insurance</td>\n",
       "    </tr>\n",
       "    <tr>\n",
       "      <th>5</th>\n",
       "      <td>28</td>\n",
       "      <td>1</td>\n",
       "      <td>3.0</td>\n",
       "      <td>0</td>\n",
       "      <td>12956</td>\n",
       "      <td>1</td>\n",
       "      <td>0</td>\n",
       "      <td>1.0</td>\n",
       "      <td>2</td>\n",
       "      <td>7</td>\n",
       "      <td>...</td>\n",
       "      <td>0</td>\n",
       "      <td>1</td>\n",
       "      <td>0</td>\n",
       "      <td>0</td>\n",
       "      <td>0</td>\n",
       "      <td>0</td>\n",
       "      <td>0</td>\n",
       "      <td>0</td>\n",
       "      <td>940</td>\n",
       "      <td>will buy insurance</td>\n",
       "    </tr>\n",
       "    <tr>\n",
       "      <th>6</th>\n",
       "      <td>39</td>\n",
       "      <td>2</td>\n",
       "      <td>2.0</td>\n",
       "      <td>0</td>\n",
       "      <td>1044</td>\n",
       "      <td>1</td>\n",
       "      <td>0</td>\n",
       "      <td>1.0</td>\n",
       "      <td>2</td>\n",
       "      <td>2</td>\n",
       "      <td>...</td>\n",
       "      <td>0</td>\n",
       "      <td>0</td>\n",
       "      <td>0</td>\n",
       "      <td>0</td>\n",
       "      <td>0</td>\n",
       "      <td>0</td>\n",
       "      <td>0</td>\n",
       "      <td>0</td>\n",
       "      <td>158</td>\n",
       "      <td>will not buy insurance</td>\n",
       "    </tr>\n",
       "    <tr>\n",
       "      <th>7</th>\n",
       "      <td>50</td>\n",
       "      <td>2</td>\n",
       "      <td>3.0</td>\n",
       "      <td>0</td>\n",
       "      <td>414</td>\n",
       "      <td>1</td>\n",
       "      <td>0</td>\n",
       "      <td>1.0</td>\n",
       "      <td>3</td>\n",
       "      <td>4</td>\n",
       "      <td>...</td>\n",
       "      <td>0</td>\n",
       "      <td>1</td>\n",
       "      <td>0</td>\n",
       "      <td>0</td>\n",
       "      <td>0</td>\n",
       "      <td>0</td>\n",
       "      <td>0</td>\n",
       "      <td>0</td>\n",
       "      <td>707</td>\n",
       "      <td>will buy insurance</td>\n",
       "    </tr>\n",
       "    <tr>\n",
       "      <th>8</th>\n",
       "      <td>56</td>\n",
       "      <td>3</td>\n",
       "      <td>3.0</td>\n",
       "      <td>0</td>\n",
       "      <td>408</td>\n",
       "      <td>1</td>\n",
       "      <td>0</td>\n",
       "      <td>81.0</td>\n",
       "      <td>27</td>\n",
       "      <td>5</td>\n",
       "      <td>...</td>\n",
       "      <td>0</td>\n",
       "      <td>1</td>\n",
       "      <td>0</td>\n",
       "      <td>0</td>\n",
       "      <td>0</td>\n",
       "      <td>0</td>\n",
       "      <td>0</td>\n",
       "      <td>0</td>\n",
       "      <td>274</td>\n",
       "      <td>will not buy insurance</td>\n",
       "    </tr>\n",
       "    <tr>\n",
       "      <th>9</th>\n",
       "      <td>36</td>\n",
       "      <td>2</td>\n",
       "      <td>2.0</td>\n",
       "      <td>0</td>\n",
       "      <td>1006</td>\n",
       "      <td>1</td>\n",
       "      <td>0</td>\n",
       "      <td>1.0</td>\n",
       "      <td>21</td>\n",
       "      <td>11</td>\n",
       "      <td>...</td>\n",
       "      <td>0</td>\n",
       "      <td>0</td>\n",
       "      <td>0</td>\n",
       "      <td>1</td>\n",
       "      <td>0</td>\n",
       "      <td>0</td>\n",
       "      <td>0</td>\n",
       "      <td>0</td>\n",
       "      <td>89</td>\n",
       "      <td>will not buy insurance</td>\n",
       "    </tr>\n",
       "  </tbody>\n",
       "</table>\n",
       "<p>10 rows × 27 columns</p>\n",
       "</div>"
      ],
      "text/plain": [
       "   Age  Marital  Education  Default  Balance  HHInsurance  CarLoan  \\\n",
       "0   25        1        2.0        0        1            1        1   \n",
       "1   40        2        3.0        0        0            1        1   \n",
       "2   44        1        3.0        0    -1313            1        1   \n",
       "3   27        1        2.0        0     6279            1        0   \n",
       "4   53        2        2.0        0     7984            1        0   \n",
       "5   28        1        3.0        0    12956            1        0   \n",
       "6   39        2        2.0        0     1044            1        0   \n",
       "7   50        2        3.0        0      414            1        0   \n",
       "8   56        3        3.0        0      408            1        0   \n",
       "9   36        2        2.0        0     1006            1        0   \n",
       "\n",
       "   Communication  LastContactDay  LastContactMonth  ...  Job_housemaid  \\\n",
       "0           81.0              12                 5  ...              0   \n",
       "1            1.0              24                 7  ...              0   \n",
       "2            1.0              15                 5  ...              0   \n",
       "3            1.0               9                11  ...              0   \n",
       "4            1.0               2                 2  ...              0   \n",
       "5            1.0               2                 7  ...              0   \n",
       "6            1.0               2                 2  ...              0   \n",
       "7            1.0               3                 4  ...              0   \n",
       "8           81.0              27                 5  ...              0   \n",
       "9            1.0              21                11  ...              0   \n",
       "\n",
       "   Job_management  Job_retired  Job_self-employed  Job_services  Job_student  \\\n",
       "0               0            0                  0             0            0   \n",
       "1               1            0                  0             0            0   \n",
       "2               1            0                  0             0            0   \n",
       "3               0            0                  0             1            0   \n",
       "4               0            0                  0             0            0   \n",
       "5               1            0                  0             0            0   \n",
       "6               0            0                  0             0            0   \n",
       "7               1            0                  0             0            0   \n",
       "8               1            0                  0             0            0   \n",
       "9               0            0                  1             0            0   \n",
       "\n",
       "   Job_technician  Job_unemployed  Call_Duration            CarInsurance  \n",
       "0               0               0             24  will not buy insurance  \n",
       "1               0               0             53  will not buy insurance  \n",
       "2               0               0            104  will not buy insurance  \n",
       "3               0               0            257  will not buy insurance  \n",
       "4               1               0            151  will not buy insurance  \n",
       "5               0               0            940      will buy insurance  \n",
       "6               0               0            158  will not buy insurance  \n",
       "7               0               0            707      will buy insurance  \n",
       "8               0               0            274  will not buy insurance  \n",
       "9               0               0             89  will not buy insurance  \n",
       "\n",
       "[10 rows x 27 columns]"
      ]
     },
     "execution_count": 57,
     "metadata": {},
     "output_type": "execute_result"
    }
   ],
   "source": [
    "test_df.head(10)"
   ]
  },
  {
   "cell_type": "markdown",
   "metadata": {},
   "source": [
    "# INFERENCE"
   ]
  },
  {
   "cell_type": "markdown",
   "metadata": {},
   "source": [
    "      \n",
    "       MODEL  USED               TRAIN ACCURACY    TEST ACCURACY\n",
    "    \n",
    "    LOGISTIC REGRESSION      :       80%               79%\n",
    "    \n",
    "    DECISION TREE CLASSIFIER :       100%              74%\n",
    "    \n",
    "    BAGGING CLASSIFIER       :       74%               75% \n",
    "    \n",
    "    The model is overfitted, so bagging classifier is used to avoid it."
   ]
  },
  {
   "cell_type": "markdown",
   "metadata": {},
   "source": [
    "    BEFORE HYPER-PARAMETER TUNING                              AFTER HYPER-PARAMETER TUNING\n",
    "\n",
    "    LOGISTIC REGRESSION                                        LOGISTIC REGRESSION\n",
    "        K fold cross validation  : 75%                             K fold cross validation  : 79%\n",
    "                        Accuracy : 79%                                             Accuracy : 80%\n",
    "                       Precision : 79%                                            Precision : 79%\n",
    "                          Recall : 80%                                               Recall : 80%\n",
    "                        F1 Score : 79%                                             F1 Score : 79%\n",
    "    \n",
    "\n",
    "    DECISION TREE CLASSIFIER                                  DECISION TREE CLASSIFIER\n",
    "        K fold cross validation  : 77%                            K fold cross validation  : 79%\n",
    "                        Accuracy : 74%                                            Accuracy : 77%\n",
    "                       Precision : 74%                                           Precision : 78%\n",
    "                          Recall : 74%                                              Recall : 77%\n",
    "                        F1 Score : 74%                                            F1 Score : 77%\n"
   ]
  },
  {
   "cell_type": "markdown",
   "metadata": {},
   "source": [
    "     By comparing the model performance metrices , the effectiveness of the algorithm was calculated.\n",
    "     Logistic regression has the highest accuracy of about 80% and \n",
    "     decision tree classifier has an accuracy of 77% after hyper parameter tuning.\n",
    "     Therefore, Logistic Regression is used to predict whether the customer will claim insurance or not.\n"
   ]
  },
  {
   "cell_type": "code",
   "execution_count": null,
   "metadata": {},
   "outputs": [],
   "source": [
    "## IDENTIFICATION OF PROSPECTIVE CUSTOMERS FOR CAR INSURANCE"
   ]
  }
 ],
 "metadata": {
  "kernelspec": {
   "display_name": "Python 3",
   "language": "python",
   "name": "python3"
  },
  "language_info": {
   "codemirror_mode": {
    "name": "ipython",
    "version": 3
   },
   "file_extension": ".py",
   "mimetype": "text/x-python",
   "name": "python",
   "nbconvert_exporter": "python",
   "pygments_lexer": "ipython3",
   "version": "3.8.5"
  }
 },
 "nbformat": 4,
 "nbformat_minor": 4
}
